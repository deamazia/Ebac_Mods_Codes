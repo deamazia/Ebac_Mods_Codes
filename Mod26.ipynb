{
 "cells": [
  {
   "cell_type": "markdown",
   "metadata": {},
   "source": [
    "# Tarefa - Álgebra Linear\n",
    "\n",
    "A célula abaixo gera dados de notas de duas provas, p1 e p2, conforme em aula, mas com mais alunos.\n",
    "\n",
    "## 1. Reduzindo correlações\n",
    "\n",
    "a) Já vimos que expressar os dados através da média e diferença é uma transformação linear. Obtenha a média e a diferença através de uma multiplicação matricial, conforme visto em aula.\n",
    "\n",
    "b) Calcule a correlação entre os dados da **p1** e **p2**\n",
    "\n",
    "c) Calcule a correlação entre os dados transformados (média e diferença)\n",
    "\n",
    "d) Comente as correlações observadas."
   ]
  },
  {
   "cell_type": "code",
   "execution_count": 1,
   "metadata": {},
   "outputs": [],
   "source": [
    "import pandas as pd\n",
    "import seaborn as sns\n",
    "import numpy as np\n",
    "import matplotlib.pyplot as plt\n",
    "\n",
    "%matplotlib inline\n",
    "\n",
    "# Gerando os dados\n",
    "np.random.seed(123)\n",
    "\n",
    "p1 = np.random.random(50) *10\n",
    "p1[p1>10] = 10\n",
    "p1[p1<0] = 0\n",
    "\n",
    "p2 = p1 + np.random.normal(0,1,50)\n",
    "p2[p2>10] = 10\n",
    "p2[p2<0] = 0\n",
    "\n",
    "df = pd.DataFrame({'p1': p1, 'p2': p2})"
   ]
  },
  {
   "cell_type": "code",
   "execution_count": 2,
   "metadata": {},
   "outputs": [
    {
     "name": "stdout",
     "output_type": "stream",
     "text": [
      "         P1        P2     Media  Diferenca\n",
      "0  6.964692  7.943428  7.454060  -0.978736\n",
      "1  2.861393  5.099537  3.980465  -2.238143\n",
      "2  2.268515  0.974429  1.621472   1.294085\n",
      "3  5.513148  4.474359  4.993754   1.038788\n",
      "4  7.194690  8.938402  8.066546  -1.743712\n"
     ]
    }
   ],
   "source": [
    "df = pd.DataFrame({'P1': p1, 'P2': p2})\n",
    "\n",
    "notas = df[['P1', 'P2']].values.T \n",
    "\n",
    "T = np.array([[0.5, 0.5],\n",
    "              [1, -1]])\n",
    "\n",
    "transformado = T @ notas  \n",
    "\n",
    "media = transformado[0, :]\n",
    "diferenca = transformado[1, :]\n",
    "\n",
    "df['Media'] = media\n",
    "df['Diferenca'] = diferenca\n",
    "\n",
    "print(df.head())"
   ]
  },
  {
   "cell_type": "code",
   "execution_count": 3,
   "metadata": {},
   "outputs": [
    {
     "name": "stdout",
     "output_type": "stream",
     "text": [
      "Correlação entre P1 e P2: 0.8957\n"
     ]
    }
   ],
   "source": [
    "correlacao = df['P1'].corr(df['P2'])\n",
    "\n",
    "print(f\"Correlação entre P1 e P2: {correlacao:.4f}\")"
   ]
  },
  {
   "cell_type": "code",
   "execution_count": 4,
   "metadata": {},
   "outputs": [
    {
     "name": "stdout",
     "output_type": "stream",
     "text": [
      "Correlação entre Média e Diferença: -0.1335\n"
     ]
    }
   ],
   "source": [
    "df = pd.DataFrame({'P1': p1, 'P2': p2})\n",
    "\n",
    "A = np.array([[0.5, 0.5], [1, -1]])\n",
    "\n",
    "X = np.vstack((df['P1'], df['P2']))\n",
    "\n",
    "transformado = A @ X\n",
    "\n",
    "media = transformado[0]\n",
    "diferenca = transformado[1]\n",
    "\n",
    "df_transformado = pd.DataFrame({\n",
    "    'Media': media,\n",
    "    'Diferenca': diferenca\n",
    "})\n",
    "\n",
    "correlacao_md = df_transformado['Media'].corr(df_transformado['Diferenca'])\n",
    "\n",
    "print(f\"Correlação entre Média e Diferença: {correlacao_md:.4f}\")"
   ]
  },
  {
   "cell_type": "code",
   "execution_count": null,
   "metadata": {},
   "outputs": [],
   "source": [
    "# Na primeira correlação forte indica que quem foi bem na p1 foi bem na p2\n",
    "\n",
    "# Na segunda a correlação é fraca, após a transformação linear sconseguimos quebrar ou reduzir a depedência;"
   ]
  },
  {
   "cell_type": "markdown",
   "metadata": {},
   "source": [
    "## 2. Soma e diferença\n",
    "\n",
    "Realize agora uma transformação semelhante, mas que ao invés da média, dê a soma da **p1** e **p2**. Construa o gráfico e conclua que diferenças visuais você observa."
   ]
  },
  {
   "cell_type": "code",
   "execution_count": 5,
   "metadata": {},
   "outputs": [
    {
     "data": {
      "image/png": "[encoded data removed]",
      "text/plain": [
       "<Figure size 800x600 with 1 Axes>"
      ]
     },
     "metadata": {},
     "output_type": "display_data"
    }
   ],
   "source": [
    "%matplotlib inline\n",
    "\n",
    "np.random.seed(123)\n",
    "\n",
    "p1 = np.random.random(50) * 10\n",
    "p1[p1 > 10] = 10\n",
    "p1[p1 < 0] = 0\n",
    "\n",
    "p2 = p1 + np.random.normal(0, 1, 50)\n",
    "p2[p2 > 10] = 10\n",
    "p2[p2 < 0] = 0\n",
    "\n",
    "X = np.vstack((p1, p2))\n",
    "\n",
    "T = np.array([[1, 1],\n",
    "              [1, -1]]) * 0.5  \n",
    "\n",
    "Y = T @ X\n",
    "\n",
    "soma = Y[0, :]\n",
    "diferenca = Y[1, :]\n",
    "\n",
    "df_transf = pd.DataFrame({\n",
    "    'Soma': soma,\n",
    "    'Diferenca': diferenca\n",
    "})\n",
    "\n",
    "plt.figure(figsize=(8,6))\n",
    "sns.scatterplot(data=df_transf, x='Soma', y='Diferenca')\n",
    "plt.title('Dispersão: Soma x Diferença')\n",
    "plt.xlabel('Soma (p1 + p2)')\n",
    "plt.ylabel('Diferença (p1 - p2)')\n",
    "plt.grid(True)\n",
    "plt.show()"
   ]
  },
  {
   "cell_type": "code",
   "execution_count": null,
   "metadata": {},
   "outputs": [],
   "source": []
  }
 ],
 "metadata": {
  "kernelspec": {
   "display_name": "Python [conda env:base] *",
   "language": "python",
   "name": "conda-base-py"
  },
  "language_info": {
   "codemirror_mode": {
    "name": "ipython",
    "version": 3
   },
   "file_extension": ".py",
   "mimetype": "text/x-python",
   "name": "python",
   "nbconvert_exporter": "python",
   "pygments_lexer": "ipython3",
   "version": "3.12.4"
  },
  "toc": {
   "base_numbering": 1,
   "nav_menu": {},
   "number_sections": false,
   "sideBar": true,
   "skip_h1_title": false,
   "title_cell": "Índice",
   "title_sidebar": "Conteúdo",
   "toc_cell": false,
   "toc_position": {
    "height": "calc(100% - 180px)",
    "left": "10px",
    "top": "150px",
    "width": "257.6px"
   },
   "toc_section_display": true,
   "toc_window_display": false
  },
  "varInspector": {
   "cols": {
    "lenName": 16,
    "lenType": 16,
    "lenVar": 40
   },
   "kernels_config": {
    "python": {
     "delete_cmd_postfix": "",
     "delete_cmd_prefix": "del ",
     "library": "var_list.py",
     "varRefreshCmd": "print(var_dic_list())"
    },
    "r": {
     "delete_cmd_postfix": ") ",
     "delete_cmd_prefix": "rm(",
     "library": "var_list.r",
     "varRefreshCmd": "cat(var_dic_list()) "
    }
   },
   "types_to_exclude": [
    "module",
    "function",
    "builtin_function_or_method",
    "instance",
    "_Feature"
   ],
   "window_display": false
  }
 },
 "nbformat": 4,
 "nbformat_minor": 4
}
