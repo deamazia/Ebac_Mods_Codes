{
 "cells": [
  {
   "cell_type": "markdown",
   "metadata": {},
   "source": [
    "# Tarefa 02\n",
    "\n",
    "• Crie um script que receba uma lista de abreviaturas de meses (MAR, ABR, MAI,\n",
    "JUN, etc) como argumento e gera as pastas e gráficos necessários para os meses\n",
    "de referência.\n",
    "Exemplo:\n",
    "python “gerar analise.py” MAR ABR MAI JUN JUL\n",
    "Deve gerar o seguinte resultado de diretórios e gráficos:\n",
    "2019-03\n",
    "2019-04\n",
    "2019-05\n",
    "2019-06\n",
    "2019-07"
   ]
  },
  {
   "cell_type": "code",
   "execution_count": 7,
   "metadata": {},
   "outputs": [
    {
     "name": "stdout",
     "output_type": "stream",
     "text": [
      "Pasta criada e gráfico salvo em: C:\\Users\\shinoki\\Documents\\data_science\\2019-03\\grafico.png\n",
      "Pasta criada e gráfico salvo em: C:\\Users\\shinoki\\Documents\\data_science\\2019-04\\grafico.png\n",
      "Pasta criada e gráfico salvo em: C:\\Users\\shinoki\\Documents\\data_science\\2019-05\\grafico.png\n",
      "Pasta criada e gráfico salvo em: C:\\Users\\shinoki\\Documents\\data_science\\2019-06\\grafico.png\n",
      "Pasta criada e gráfico salvo em: C:\\Users\\shinoki\\Documents\\data_science\\2019-07\\grafico.png\n"
     ]
    }
   ],
   "source": [
    "import os\n",
    "import matplotlib.pyplot as plt\n",
    "\n",
    "base_dir = r'C:\\Users\\shinoki\\Documents\\data_science'\n",
    "\n",
    "mapa_meses = {\n",
    "    \"JAN\": \"01\", \"FEV\": \"02\", \"MAR\": \"03\", \"ABR\": \"04\",\n",
    "    \"MAI\": \"05\", \"JUN\": \"06\", \"JUL\": \"07\", \"AGO\": \"08\",\n",
    "    \"SET\": \"09\", \"OUT\": \"10\", \"NOV\": \"11\", \"DEZ\": \"12\"\n",
    "}\n",
    "\n",
    "abrevs = ['MAR', 'ABR', 'MAI', 'JUN', 'JUL']\n",
    "\n",
    "def criar_pasta(nome_completo):\n",
    "    os.makedirs(nome_completo, exist_ok=True)\n",
    "\n",
    "def gerar_grafico(pasta_destino, mes_abrev):\n",
    "    categorias = ['A', 'B', 'C']\n",
    "    valores = [10, 20, 15]\n",
    "\n",
    "    plt.figure()\n",
    "    plt.bar(categorias, valores)\n",
    "    plt.title(f'Gráfico do mês de {mes_abrev}')\n",
    "    plt.xlabel('Categoria')\n",
    "    plt.ylabel('Valor')\n",
    "    \n",
    "    caminho = os.path.join(pasta_destino, 'grafico.png')\n",
    "    plt.savefig(caminho)\n",
    "    plt.close()\n",
    "\n",
    "for abrev in abrevs:\n",
    "    abrev = abrev.upper()\n",
    "    if abrev not in mapa_meses:\n",
    "        print(f\"Aviso: mês inválido ou não reconhecido: {abrev}\")\n",
    "        continue\n",
    "    \n",
    "    numero_mes = mapa_meses[abrev]\n",
    "    nome_pasta = f\"2019-{numero_mes}\"\n",
    "    caminho_completo = os.path.join(base_dir, nome_pasta)\n",
    "\n",
    "    criar_pasta(caminho_completo)\n",
    "    gerar_grafico(caminho_completo, abrev)\n",
    "    print(f\"Pasta criada e gráfico salvo em: {caminho_completo}\\\\grafico.png\")\n",
    "\n"
   ]
  },
  {
   "cell_type": "code",
   "execution_count": null,
   "metadata": {},
   "outputs": [],
   "source": []
  }
 ],
 "metadata": {
  "kernelspec": {
   "display_name": "Python [conda env:base] *",
   "language": "python",
   "name": "conda-base-py"
  },
  "language_info": {
   "codemirror_mode": {
    "name": "ipython",
    "version": 3
   },
   "file_extension": ".py",
   "mimetype": "text/x-python",
   "name": "python",
   "nbconvert_exporter": "python",
   "pygments_lexer": "ipython3",
   "version": "3.12.4"
  }
 },
 "nbformat": 4,
 "nbformat_minor": 4
}
