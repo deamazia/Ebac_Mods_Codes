{
 "cells": [
  {
   "cell_type": "markdown",
   "metadata": {},
   "source": [
    "# Regressão Logística I\n",
    "## Tarefa II\n",
    "\n",
    "Vamos trabalhar com a mesma base do exercício anterior, mas vamos aprofundar um pouco mais a nossa regressão."
   ]
  },
  {
   "cell_type": "code",
   "execution_count": 17,
   "metadata": {},
   "outputs": [],
   "source": [
    "import pandas as pd\n",
    "import seaborn as sns\n",
    "import matplotlib.pyplot as plt\n",
    "import numpy as np\n",
    "from sklearn.metrics import accuracy_score\n",
    "from scipy.stats import ks_2samp\n",
    "import statsmodels.formula.api as smf\n",
    "import statsmodels.api as sm"
   ]
  },
  {
   "cell_type": "code",
   "execution_count": 2,
   "metadata": {
    "tags": []
   },
   "outputs": [
    {
     "data": {
      "text/html": [
       "<div>\n",
       "<style scoped>\n",
       "    .dataframe tbody tr th:only-of-type {\n",
       "        vertical-align: middle;\n",
       "    }\n",
       "\n",
       "    .dataframe tbody tr th {\n",
       "        vertical-align: top;\n",
       "    }\n",
       "\n",
       "    .dataframe thead th {\n",
       "        text-align: right;\n",
       "    }\n",
       "</style>\n",
       "<table border=\"1\" class=\"dataframe\">\n",
       "  <thead>\n",
       "    <tr style=\"text-align: right;\">\n",
       "      <th></th>\n",
       "      <th>age</th>\n",
       "      <th>sex</th>\n",
       "      <th>cp</th>\n",
       "      <th>trestbps</th>\n",
       "      <th>chol</th>\n",
       "      <th>fbs</th>\n",
       "      <th>restecg</th>\n",
       "      <th>thalach</th>\n",
       "      <th>exang</th>\n",
       "      <th>oldpeak</th>\n",
       "      <th>slope</th>\n",
       "      <th>ca</th>\n",
       "      <th>thal</th>\n",
       "      <th>num</th>\n",
       "      <th>flag_doente</th>\n",
       "    </tr>\n",
       "  </thead>\n",
       "  <tbody>\n",
       "    <tr>\n",
       "      <th>0</th>\n",
       "      <td>63.0</td>\n",
       "      <td>1.0</td>\n",
       "      <td>1.0</td>\n",
       "      <td>145.0</td>\n",
       "      <td>233.0</td>\n",
       "      <td>1.0</td>\n",
       "      <td>2.0</td>\n",
       "      <td>150.0</td>\n",
       "      <td>0.0</td>\n",
       "      <td>2.3</td>\n",
       "      <td>3.0</td>\n",
       "      <td>0.0</td>\n",
       "      <td>6.0</td>\n",
       "      <td>0</td>\n",
       "      <td>0</td>\n",
       "    </tr>\n",
       "    <tr>\n",
       "      <th>1</th>\n",
       "      <td>67.0</td>\n",
       "      <td>1.0</td>\n",
       "      <td>4.0</td>\n",
       "      <td>160.0</td>\n",
       "      <td>286.0</td>\n",
       "      <td>0.0</td>\n",
       "      <td>2.0</td>\n",
       "      <td>108.0</td>\n",
       "      <td>1.0</td>\n",
       "      <td>1.5</td>\n",
       "      <td>2.0</td>\n",
       "      <td>3.0</td>\n",
       "      <td>3.0</td>\n",
       "      <td>2</td>\n",
       "      <td>1</td>\n",
       "    </tr>\n",
       "    <tr>\n",
       "      <th>2</th>\n",
       "      <td>67.0</td>\n",
       "      <td>1.0</td>\n",
       "      <td>4.0</td>\n",
       "      <td>120.0</td>\n",
       "      <td>229.0</td>\n",
       "      <td>0.0</td>\n",
       "      <td>2.0</td>\n",
       "      <td>129.0</td>\n",
       "      <td>1.0</td>\n",
       "      <td>2.6</td>\n",
       "      <td>2.0</td>\n",
       "      <td>2.0</td>\n",
       "      <td>7.0</td>\n",
       "      <td>1</td>\n",
       "      <td>1</td>\n",
       "    </tr>\n",
       "    <tr>\n",
       "      <th>3</th>\n",
       "      <td>37.0</td>\n",
       "      <td>1.0</td>\n",
       "      <td>3.0</td>\n",
       "      <td>130.0</td>\n",
       "      <td>250.0</td>\n",
       "      <td>0.0</td>\n",
       "      <td>0.0</td>\n",
       "      <td>187.0</td>\n",
       "      <td>0.0</td>\n",
       "      <td>3.5</td>\n",
       "      <td>3.0</td>\n",
       "      <td>0.0</td>\n",
       "      <td>3.0</td>\n",
       "      <td>0</td>\n",
       "      <td>0</td>\n",
       "    </tr>\n",
       "    <tr>\n",
       "      <th>4</th>\n",
       "      <td>41.0</td>\n",
       "      <td>0.0</td>\n",
       "      <td>2.0</td>\n",
       "      <td>130.0</td>\n",
       "      <td>204.0</td>\n",
       "      <td>0.0</td>\n",
       "      <td>2.0</td>\n",
       "      <td>172.0</td>\n",
       "      <td>0.0</td>\n",
       "      <td>1.4</td>\n",
       "      <td>1.0</td>\n",
       "      <td>0.0</td>\n",
       "      <td>3.0</td>\n",
       "      <td>0</td>\n",
       "      <td>0</td>\n",
       "    </tr>\n",
       "  </tbody>\n",
       "</table>\n",
       "</div>"
      ],
      "text/plain": [
       "    age  sex   cp  trestbps   chol  fbs  restecg  thalach  exang  oldpeak  \\\n",
       "0  63.0  1.0  1.0     145.0  233.0  1.0      2.0    150.0    0.0      2.3   \n",
       "1  67.0  1.0  4.0     160.0  286.0  0.0      2.0    108.0    1.0      1.5   \n",
       "2  67.0  1.0  4.0     120.0  229.0  0.0      2.0    129.0    1.0      2.6   \n",
       "3  37.0  1.0  3.0     130.0  250.0  0.0      0.0    187.0    0.0      3.5   \n",
       "4  41.0  0.0  2.0     130.0  204.0  0.0      2.0    172.0    0.0      1.4   \n",
       "\n",
       "   slope   ca thal  num  flag_doente  \n",
       "0    3.0  0.0  6.0    0            0  \n",
       "1    2.0  3.0  3.0    2            1  \n",
       "2    2.0  2.0  7.0    1            1  \n",
       "3    3.0  0.0  3.0    0            0  \n",
       "4    1.0  0.0  3.0    0            0  "
      ]
     },
     "execution_count": 2,
     "metadata": {},
     "output_type": "execute_result"
    }
   ],
   "source": [
    "url = 'https://archive.ics.uci.edu/ml/machine-learning-databases/heart-disease/processed.cleveland.data'\n",
    "\n",
    "df = pd.read_csv(url, \n",
    "                 names=['age', 'sex', 'cp', 'trestbps', 'chol', 'fbs', 'restecg',\n",
    "                        'thalach', 'exang', 'oldpeak', 'slope', 'ca', 'thal', 'num'])\n",
    "df['flag_doente'] = (df['num']!=0).astype('int64')\n",
    "df.head()"
   ]
  },
  {
   "cell_type": "markdown",
   "metadata": {},
   "source": [
    "A descrição das variáveis está recortada abaixo:\n",
    "- age: idade do paciente em anos\n",
    "- sex: sexo (1 = male; 0 = female)  \n",
    "- cp: tipo de dor no peito\n",
    "  - 1: angina típica\n",
    "  - 2: angina atípica\n",
    "  - 3: dor não-angina\n",
    "  - 4: assintomático\n",
    "- trestbps: pressão sanguínea em repouso (em mm Hg na admissão ao hospital\n",
    "- chol: colesterol sérico em mg/dl\n",
    "- fbs: (açúcar no sangue em jejum > 120 mg/dl) (1 = True; 0 = False)\n",
    "- restecg: resultados eletrocardiográficos em repouso\n",
    "  - 0: normal\n",
    "  - 1: tendo anormalidade da onda ST-T (Inversões de onda T e / ou ST com elevação ou depressão de > 0.05 mV)\n",
    "  - 2: mostrando hipertrofia ventricular esquerda provável ou definitiva pelos critérios de Estes\n",
    "- thalach: frequência cardíaca máxima alcançada\n",
    "- exang: angina induzida por exercício(1 = sim; 0 = não)\n",
    "- oldpeak = Depressão de ST induzida por exercício em relação ao repouso\n",
    "- slope: Depressão de ST induzida por exercício em relação ao repouso\n",
    "  - 1: inclinação ascendente\n",
    "  - 2: estável\n",
    "  - 3: inclinação descendente\n",
    "- ca: número de vasos principais (0-3) coloridos por fluorosopia\n",
    "- thal: 3 = normal; 6 = defeito corrigido; 7 = defeito reversível\n",
    "- num: diagnóstico de doença cardíaga (status de doença angiográfica)"
   ]
  },
  {
   "cell_type": "code",
   "execution_count": 3,
   "metadata": {},
   "outputs": [
    {
     "name": "stdout",
     "output_type": "stream",
     "text": [
      "<class 'pandas.core.frame.DataFrame'>\n",
      "RangeIndex: 303 entries, 0 to 302\n",
      "Data columns (total 15 columns):\n",
      " #   Column       Non-Null Count  Dtype  \n",
      "---  ------       --------------  -----  \n",
      " 0   age          303 non-null    float64\n",
      " 1   sex          303 non-null    float64\n",
      " 2   cp           303 non-null    float64\n",
      " 3   trestbps     303 non-null    float64\n",
      " 4   chol         303 non-null    float64\n",
      " 5   fbs          303 non-null    float64\n",
      " 6   restecg      303 non-null    float64\n",
      " 7   thalach      303 non-null    float64\n",
      " 8   exang        303 non-null    float64\n",
      " 9   oldpeak      303 non-null    float64\n",
      " 10  slope        303 non-null    float64\n",
      " 11  ca           303 non-null    object \n",
      " 12  thal         303 non-null    object \n",
      " 13  num          303 non-null    int64  \n",
      " 14  flag_doente  303 non-null    int64  \n",
      "dtypes: float64(11), int64(2), object(2)\n",
      "memory usage: 35.6+ KB\n"
     ]
    }
   ],
   "source": [
    "df.info()"
   ]
  },
  {
   "cell_type": "markdown",
   "metadata": {},
   "source": [
    "1. Considere o script que monta a análise bivariada que você fez na tarefa anterior. Transforme esse script em uma função, que deve:\n",
    "- Ter como parâmetros de entrada:\n",
    "    - Um *dataframe* contendo os dados a serem avaliados\n",
    "    - Um *string* contendo o nome da variável resposta\n",
    "    - Um *string* contendo o nome da variável explicativa\n",
    "- E deve retornar um *dataframe* com os dados da bivariada. \n",
    "**Monte** a mesma bivariada pelo menos três variáveis qualitativas do *data-frame*. Qual delas parece discriminar mais o risco?"
   ]
  },
  {
   "cell_type": "code",
   "execution_count": 4,
   "metadata": {},
   "outputs": [],
   "source": [
    "def bivariada_woe(df, resposta, explicativa):\n",
    "    odds_total = df[resposta].sum() / (df[resposta] == 0).sum()\n",
    "    \n",
    "    tabela = df.groupby(explicativa).agg(\n",
    "        Número_de_saudáveis = (resposta, lambda x: (x == 0).sum()),\n",
    "        Número_de_doentes = (resposta, 'sum'),\n",
    "        Total = (resposta, 'count'),\n",
    "        Proporção_de_doentes = (resposta, 'mean')\n",
    "    ).reset_index()\n",
    "    \n",
    "    tabela['Odds'] = tabela['Número_de_doentes'] / tabela['Número_de_saudáveis']\n",
    "    tabela['Odds_Ratio'] = tabela['Odds'] / odds_total\n",
    "    tabela['Logito'] = np.log(tabela['Odds'])\n",
    "    tabela['WOE'] = np.log(tabela['Odds_Ratio'])\n",
    "    \n",
    "    return tabela\n"
   ]
  },
  {
   "cell_type": "code",
   "execution_count": 5,
   "metadata": {},
   "outputs": [],
   "source": [
    "biv_sex = bivariada_woe(df, 'flag_doente', 'sex')\n",
    "biv_cp = bivariada_woe(df, 'flag_doente', 'cp')\n",
    "biv_thal = bivariada_woe(df, 'flag_doente', 'thal')\n"
   ]
  },
  {
   "cell_type": "code",
   "execution_count": 6,
   "metadata": {},
   "outputs": [
    {
     "name": "stdout",
     "output_type": "stream",
     "text": [
      "Discriminação por sexo:\n",
      "   sex  Número_de_saudáveis  Número_de_doentes  Total  Proporção_de_doentes  \\\n",
      "0  0.0                   72                 25     97              0.257732   \n",
      "1  1.0                   92                114    206              0.553398   \n",
      "\n",
      "       Odds  Odds_Ratio   Logito       WOE  \n",
      "0  0.347222    0.409672 -1.05779 -0.892398  \n",
      "1  1.239130    1.461996  0.21441  0.379802  \n",
      "\n",
      "Discriminação por tipo de dor no peito (cp):\n",
      "    cp  Número_de_saudáveis  Número_de_doentes  Total  Proporção_de_doentes  \\\n",
      "0  1.0                   16                  7     23              0.304348   \n",
      "1  2.0                   41                  9     50              0.180000   \n",
      "2  3.0                   68                 18     86              0.209302   \n",
      "3  4.0                   39                105    144              0.729167   \n",
      "\n",
      "       Odds  Odds_Ratio    Logito       WOE  \n",
      "0  0.437500    0.516187 -0.826679 -0.661286  \n",
      "1  0.219512    0.258993 -1.516347 -1.350955  \n",
      "2  0.264706    0.312315 -1.329136 -1.163743  \n",
      "3  2.692308    3.176536  0.990399  1.155791  \n",
      "\n",
      "Discriminação por thalassemia (thal):\n",
      "  thal  Número_de_saudáveis  Número_de_doentes  Total  Proporção_de_doentes  \\\n",
      "0  3.0                  129                 37    166              0.222892   \n",
      "1  6.0                    6                 12     18              0.666667   \n",
      "2  7.0                   28                 89    117              0.760684   \n",
      "3    ?                    1                  1      2              0.500000   \n",
      "\n",
      "       Odds  Odds_Ratio    Logito       WOE  \n",
      "0  0.286822    0.338408 -1.248894 -1.083502  \n",
      "1  2.000000    2.359712  0.693147  0.858540  \n",
      "2  3.178571    3.750257  1.156432  1.321824  \n",
      "3  1.000000    1.179856  0.000000  0.165392  \n"
     ]
    }
   ],
   "source": [
    "print(\"Discriminação por sexo:\")\n",
    "print(biv_sex)\n",
    "\n",
    "print(\"\\nDiscriminação por tipo de dor no peito (cp):\")\n",
    "print(biv_cp)\n",
    "\n",
    "print(\"\\nDiscriminação por thalassemia (thal):\")\n",
    "print(biv_thal)\n"
   ]
  },
  {
   "cell_type": "code",
   "execution_count": 7,
   "metadata": {},
   "outputs": [
    {
     "name": "stdout",
     "output_type": "stream",
     "text": [
      "Sexo - Amplitude WOE: 1.27 | Amplitude Proporção: 0.30\n",
      "Tipo de dor no peito (cp) - Amplitude WOE: 2.51 | Amplitude Proporção: 0.55\n",
      "Thalassemia (thal) - Amplitude WOE: 2.41 | Amplitude Proporção: 0.54\n"
     ]
    }
   ],
   "source": [
    "def avaliar_discriminacao(bivariada, nome):\n",
    "    woe_range = bivariada['WOE'].max() - bivariada['WOE'].min()\n",
    "    prop_range = bivariada['Proporção_de_doentes'].max() - bivariada['Proporção_de_doentes'].min()\n",
    "    print(f'{nome} - Amplitude WOE: {woe_range:.2f} | Amplitude Proporção: {prop_range:.2f}')\n",
    "\n",
    "avaliar_discriminacao(biv_sex, 'Sexo')\n",
    "avaliar_discriminacao(biv_cp, 'Tipo de dor no peito (cp)')\n",
    "avaliar_discriminacao(biv_thal, 'Thalassemia (thal)')\n"
   ]
  },
  {
   "cell_type": "markdown",
   "metadata": {},
   "source": [
    "2. Monte uma função semelhante para categorizar variáveis quantitativas contínuas (com muitas categorias) como ```age```.  \n",
    "    Além dos mesmos parâmetros da função anterior, defina mais um parâmetro como número de categorias que você deseja quebrar. Defina um valor '*default*' de 5 grupos para este parâmetro.  "
   ]
  },
  {
   "cell_type": "code",
   "execution_count": 8,
   "metadata": {},
   "outputs": [],
   "source": [
    "def bivariada_continua(df, resposta, explicativa, n_grupos=5):\n",
    "    df = df.copy()  \n",
    "    df['grupo_var'] = pd.qcut(df[explicativa], q=n_grupos, duplicates='drop')\n",
    "\n",
    "    odds_total = df[resposta].sum() / (df[resposta] == 0).sum()\n",
    "\n",
    "    tabela = df.groupby('grupo_var').agg(\n",
    "        Número_de_saudáveis = (resposta, lambda x: (x == 0).sum()),\n",
    "        Número_de_doentes = (resposta, 'sum'),\n",
    "        Total = (resposta, 'count'),\n",
    "        Proporção_de_doentes = (resposta, 'mean'),\n",
    "        Média_da_variável = (explicativa, 'mean')\n",
    "    ).reset_index()\n",
    "\n",
    "    tabela['Odds'] = tabela['Número_de_doentes'] / tabela['Número_de_saudáveis']\n",
    "    tabela['Odds_Ratio'] = tabela['Odds'] / odds_total\n",
    "    tabela['Logito'] = np.log(tabela['Odds'])\n",
    "    tabela['WOE'] = np.log(tabela['Odds_Ratio'])\n",
    "\n",
    "    tabela = tabela.rename(columns={'grupo_var': f'Faixa de {explicativa}'})\n",
    "    \n",
    "    return tabela\n"
   ]
  },
  {
   "cell_type": "code",
   "execution_count": 9,
   "metadata": {},
   "outputs": [
    {
     "name": "stdout",
     "output_type": "stream",
     "text": [
      "     Faixa de age  Número_de_saudáveis  Número_de_doentes  Total  \\\n",
      "0  (28.999, 45.0]                   47                 16     63   \n",
      "1    (45.0, 53.0]                   42                 22     64   \n",
      "2    (53.0, 58.0]                   32                 39     71   \n",
      "3    (58.0, 62.0]                   13                 32     45   \n",
      "4    (62.0, 77.0]                   30                 30     60   \n",
      "\n",
      "   Proporção_de_doentes  Média_da_variável      Odds  Odds_Ratio    Logito  \\\n",
      "0              0.253968          41.222222  0.340426    0.401653 -1.077559   \n",
      "1              0.343750          50.000000  0.523810    0.618020 -0.646627   \n",
      "2              0.549296          56.211268  1.218750    1.437950  0.197826   \n",
      "3              0.711111          60.355556  2.461538    2.904261  0.900787   \n",
      "4              0.500000          66.516667  1.000000    1.179856  0.000000   \n",
      "\n",
      "        WOE  \n",
      "0 -0.912166  \n",
      "1 -0.481235  \n",
      "2  0.363218  \n",
      "3  1.066179  \n",
      "4  0.165392  \n"
     ]
    },
    {
     "name": "stderr",
     "output_type": "stream",
     "text": [
      "C:\\Users\\shinoki\\AppData\\Local\\Temp\\ipykernel_15268\\3997835720.py:10: FutureWarning: The default of observed=False is deprecated and will be changed to True in a future version of pandas. Pass observed=False to retain current behavior or observed=True to adopt the future default and silence this warning.\n",
      "  tabela = df.groupby('grupo_var').agg(\n"
     ]
    }
   ],
   "source": [
    "tabela_age = bivariada_continua(df, 'flag_doente', 'age')\n",
    "print(tabela_age)\n"
   ]
  },
  {
   "cell_type": "markdown",
   "metadata": {},
   "source": [
    "3. Construa um modelo de regressão logística com as variáveis qualitativas: ```sex + cp +  trestbps``` e com a variável quantitativa ```age```.\n",
    "\n",
    "**Interprete os parâmetros.**"
   ]
  },
  {
   "cell_type": "code",
   "execution_count": 12,
   "metadata": {},
   "outputs": [
    {
     "name": "stdout",
     "output_type": "stream",
     "text": [
      "Optimization terminated successfully.\n",
      "         Current function value: 0.476154\n",
      "         Iterations 6\n",
      "                           Logit Regression Results                           \n",
      "==============================================================================\n",
      "Dep. Variable:            flag_doente   No. Observations:                  303\n",
      "Model:                          Logit   Df Residuals:                      296\n",
      "Method:                           MLE   Df Model:                            6\n",
      "Date:                Wed, 16 Jul 2025   Pseudo R-squ.:                  0.3097\n",
      "Time:                        23:01:43   Log-Likelihood:                -144.27\n",
      "converged:                       True   LL-Null:                       -208.99\n",
      "Covariance Type:            nonrobust   LLR p-value:                 1.692e-25\n",
      "==============================================================================\n",
      "                 coef    std err          z      P>|z|      [0.025      0.975]\n",
      "------------------------------------------------------------------------------\n",
      "const         -8.3407      1.621     -5.145      0.000     -11.518      -5.163\n",
      "trestbps       0.0193      0.009      2.261      0.024       0.003       0.036\n",
      "age            0.0567      0.018      3.120      0.002       0.021       0.092\n",
      "sex_1.0        1.8094      0.353      5.130      0.000       1.118       2.501\n",
      "cp_2.0        -0.0617      0.636     -0.097      0.923      -1.309       1.186\n",
      "cp_3.0         0.0715      0.573      0.125      0.901      -1.051       1.194\n",
      "cp_4.0         2.4789      0.553      4.485      0.000       1.396       3.562\n",
      "==============================================================================\n"
     ]
    }
   ],
   "source": [
    "df_modelo = df[['flag_doente', 'sex', 'cp', 'trestbps', 'age']].copy()\n",
    "df_modelo = pd.get_dummies(df_modelo, columns=['sex', 'cp'], drop_first=True)\n",
    "\n",
    "df_modelo = df_modelo.replace('?', np.nan)\n",
    "df_modelo = df_modelo.dropna()\n",
    "\n",
    "df_modelo = df_modelo.astype(float)\n",
    "\n",
    "y = df_modelo['flag_doente']\n",
    "X = df_modelo.drop(columns='flag_doente')\n",
    "X = sm.add_constant(X)\n",
    "\n",
    "modelo = sm.Logit(y, X).fit()\n",
    "print(modelo.summary())\n",
    "\n"
   ]
  },
  {
   "cell_type": "markdown",
   "metadata": {},
   "source": [
    "4. Avalie o seu modelo quanto a **calibragem**:\n",
    "- Calcule a probabilidade de evento predita segundo o seu modelo\n",
    "- Categorize essa probabilidade em G=5 grupos\n",
    "- Calcule a probabilidade de evento predita média por grupo\n",
    "- Calcule a taxa de eventos (média da variável indicadora de eventos) por grupo\n",
    "- Compare graficamente o valor eperado versus observado para a taxa de maus por grupo"
   ]
  },
  {
   "cell_type": "code",
   "execution_count": 13,
   "metadata": {},
   "outputs": [],
   "source": [
    "df_modelo['prob_predita'] = modelo.predict(X)\n"
   ]
  },
  {
   "cell_type": "code",
   "execution_count": 14,
   "metadata": {},
   "outputs": [],
   "source": [
    "df_modelo['grupo_risco'] = pd.qcut(df_modelo['prob_predita'], q=5, labels=False)\n"
   ]
  },
  {
   "cell_type": "code",
   "execution_count": 15,
   "metadata": {},
   "outputs": [],
   "source": [
    "df_calib = df_modelo.groupby('grupo_risco').agg(\n",
    "    prob_predita_media=('prob_predita', 'mean'),\n",
    "    taxa_evento_real=('flag_doente', 'mean'),\n",
    "    contagem=('flag_doente', 'count')\n",
    ").reset_index()\n"
   ]
  },
  {
   "cell_type": "code",
   "execution_count": 16,
   "metadata": {},
   "outputs": [
    {
     "data": {
      "image/png": "[encoded data removed]",
      "text/plain": [
       "<Figure size 800x600 with 1 Axes>"
      ]
     },
     "metadata": {},
     "output_type": "display_data"
    }
   ],
   "source": [
    "plt.figure(figsize=(8,6))\n",
    "sns.lineplot(data=df_calib, x='prob_predita_media', y='taxa_evento_real', marker='o')\n",
    "plt.plot([0, 1], [0, 1], '--', color='gray')  \n",
    "plt.xlabel('Probabilidade Prevista Média (Esperado)')\n",
    "plt.ylabel('Taxa Real de Eventos (Observado)')\n",
    "plt.title('Curva de Calibragem - Modelo de Regressão Logística')\n",
    "plt.grid(True)\n",
    "plt.show()\n"
   ]
  },
  {
   "cell_type": "markdown",
   "metadata": {},
   "source": [
    "5. Avalie o seu modelo quanto a discriminação calculando acurácia, GINI e KS."
   ]
  },
  {
   "cell_type": "code",
   "execution_count": 18,
   "metadata": {},
   "outputs": [
    {
     "name": "stdout",
     "output_type": "stream",
     "text": [
      "Acurácia: 0.7954\n"
     ]
    }
   ],
   "source": [
    "y_prob = modelo.predict(X) \n",
    "y_true = y  \n",
    "\n",
    "y_pred = (y_prob >= 0.5).astype(int)\n",
    "acuracia = accuracy_score(y_true, y_pred)\n",
    "print(f'Acurácia: {acuracia:.4f}')\n"
   ]
  },
  {
   "cell_type": "code",
   "execution_count": 19,
   "metadata": {},
   "outputs": [
    {
     "name": "stdout",
     "output_type": "stream",
     "text": [
      "KS: 0.5930\n"
     ]
    }
   ],
   "source": [
    "ks_stat, p_value = ks_2samp(\n",
    "    y_prob[y_true == 1], \n",
    "    y_prob[y_true == 0]   \n",
    ")\n",
    "print(f'KS: {ks_stat:.4f}')\n"
   ]
  },
  {
   "cell_type": "markdown",
   "metadata": {},
   "source": [
    "6. tente melhorar o modelo obtido, por exemplo inserindo ou removendo variáveis.  \n",
    "    Avalie as características do seu modelo (calibragem e acurácia)."
   ]
  },
  {
   "cell_type": "code",
   "execution_count": 24,
   "metadata": {},
   "outputs": [
    {
     "name": "stdout",
     "output_type": "stream",
     "text": [
      "Optimization terminated successfully.\n",
      "         Current function value: 0.315298\n",
      "         Iterations 8\n",
      "                           Logit Regression Results                           \n",
      "==============================================================================\n",
      "Dep. Variable:            flag_doente   No. Observations:                  297\n",
      "Model:                          Logit   Df Residuals:                      280\n",
      "Method:                           MLE   Df Model:                           16\n",
      "Date:                Wed, 16 Jul 2025   Pseudo R-squ.:                  0.5431\n",
      "Time:                        23:24:57   Log-Likelihood:                -93.644\n",
      "converged:                       True   LL-Null:                       -204.97\n",
      "Covariance Type:            nonrobust   LLR p-value:                 2.004e-38\n",
      "==============================================================================\n",
      "                 coef    std err          z      P>|z|      [0.025      0.975]\n",
      "------------------------------------------------------------------------------\n",
      "const         -5.5111      2.858     -1.928      0.054     -11.113       0.091\n",
      "trestbps       0.0272      0.011      2.409      0.016       0.005       0.049\n",
      "age           -0.0164      0.024     -0.674      0.501      -0.064       0.031\n",
      "thalach       -0.0176      0.011     -1.537      0.124      -0.040       0.005\n",
      "oldpeak        0.4291      0.230      1.862      0.063      -0.023       0.881\n",
      "sex_1.0        1.5273      0.527      2.899      0.004       0.495       2.560\n",
      "cp_2.0         1.4688      0.795      1.849      0.065      -0.088       3.026\n",
      "cp_3.0         0.3141      0.684      0.459      0.646      -1.026       1.655\n",
      "cp_4.0         2.4315      0.695      3.500      0.000       1.070       3.793\n",
      "exang_1.0      0.6241      0.441      1.416      0.157      -0.240       1.488\n",
      "slope_2.0      1.3401      0.480      2.793      0.005       0.400       2.280\n",
      "slope_3.0      0.5763      0.910      0.633      0.526      -1.207       2.360\n",
      "ca_1.0         2.2226      0.502      4.427      0.000       1.239       3.207\n",
      "ca_2.0         3.0837      0.754      4.089      0.000       1.606       4.562\n",
      "ca_3.0         2.1156      0.909      2.327      0.020       0.334       3.897\n",
      "thal_6.0      -0.3881      0.783     -0.496      0.620      -1.922       1.146\n",
      "thal_7.0       1.3742      0.430      3.198      0.001       0.532       2.216\n",
      "==============================================================================\n"
     ]
    }
   ],
   "source": [
    "variaveis = ['flag_doente', 'sex', 'cp', 'trestbps', 'age', 'thalach', 'oldpeak', 'exang', 'slope', 'ca', 'thal']\n",
    "df_novo = df[variaveis].copy()\n",
    "\n",
    "df_novo.replace('?', np.nan, inplace=True)\n",
    "df_novo = df_novo.dropna()\n",
    "df_novo = df_novo.astype(float)\n",
    "\n",
    "variaveis_cat = ['sex', 'cp', 'exang', 'slope', 'ca', 'thal']\n",
    "df_dummies = pd.get_dummies(df_novo, columns=variaveis_cat, drop_first=True, dtype=float)\n",
    "\n",
    "y = df_dummies['flag_doente']\n",
    "X = df_dummies.drop(columns='flag_doente')\n",
    "\n",
    "X = X.apply(pd.to_numeric, errors='coerce')\n",
    "y = pd.to_numeric(y, errors='coerce')\n",
    "\n",
    "X = X.dropna()\n",
    "y = y.loc[X.index]\n",
    "\n",
    "X = sm.add_constant(X)\n",
    "\n",
    "modelo2 = sm.Logit(y, X).fit()\n",
    "\n",
    "print(modelo2.summary())\n",
    "\n"
   ]
  },
  {
   "cell_type": "code",
   "execution_count": null,
   "metadata": {},
   "outputs": [],
   "source": []
  }
 ],
 "metadata": {
  "kernelspec": {
   "display_name": "Python [conda env:base] *",
   "language": "python",
   "name": "conda-base-py"
  },
  "language_info": {
   "codemirror_mode": {
    "name": "ipython",
    "version": 3
   },
   "file_extension": ".py",
   "mimetype": "text/x-python",
   "name": "python",
   "nbconvert_exporter": "python",
   "pygments_lexer": "ipython3",
   "version": "3.12.4"
  }
 },
 "nbformat": 4,
 "nbformat_minor": 4
}
