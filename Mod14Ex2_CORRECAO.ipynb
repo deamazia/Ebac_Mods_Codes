{
 "cells": [
  {
   "cell_type": "markdown",
   "metadata": {},
   "source": [
    "# Tarefa 02\n",
    "\n",
    "• Crie um script que receba uma lista de abreviaturas de meses (MAR, ABR, MAI,\n",
    "JUN, etc) como argumento e gera as pastas e gráficos necessários para os meses\n",
    "de referência.\n",
    "Exemplo:\n",
    "python “gerar analise.py” MAR ABR MAI JUN JUL\n",
    "Deve gerar o seguinte resultado de diretórios e gráficos:\n",
    "2019-03\n",
    "2019-04\n",
    "2019-05\n",
    "2019-06\n",
    "2019-07"
   ]
  },
  {
   "cell_type": "code",
   "execution_count": 5,
   "metadata": {},
   "outputs": [
    {
     "name": "stdout",
     "output_type": "stream",
     "text": [
      "Gerado: 2019-03 -> C:\\Users\\shinoki\\Documents\\data_science\\tarefa_python\\2019-03\\nascimentos_2019-03.png\n",
      "Gerado: 2019-04 -> C:\\Users\\shinoki\\Documents\\data_science\\tarefa_python\\2019-04\\nascimentos_2019-04.png\n",
      "Gerado: 2019-05 -> C:\\Users\\shinoki\\Documents\\data_science\\tarefa_python\\2019-05\\nascimentos_2019-05.png\n",
      "Gerado: 2019-06 -> C:\\Users\\shinoki\\Documents\\data_science\\tarefa_python\\2019-06\\nascimentos_2019-06.png\n"
     ]
    }
   ],
   "source": [
    "import os\n",
    "import sys\n",
    "import pandas as pd\n",
    "import matplotlib.pyplot as plt\n",
    "\n",
    "# Simula argumentos como se viessem do terminal\n",
    "sys.argv = ['gerar_analise.py', 'MAR', 'ABR', 'MAI', 'JUN']\n",
    "\n",
    "meses_map = {\n",
    "    'JAN': '01', 'FEV': '02', 'MAR': '03', 'ABR': '04',\n",
    "    'MAI': '05', 'JUN': '06', 'JUL': '07', 'AGO': '08',\n",
    "    'SET': '09', 'OUT': '10', 'NOV': '11', 'DEZ': '12'\n",
    "}\n",
    "\n",
    "base_path = r\"C:\\Users\\shinoki\\Documents\\data_science\\tarefa_python\"\n",
    "csv_path = os.path.join(base_path, \"SINASC_RO_2019.csv\")\n",
    "\n",
    "df = pd.read_csv(csv_path)\n",
    "df['DTNASC'] = pd.to_datetime(df['DTNASC'], errors='coerce')\n",
    "\n",
    "if len(sys.argv) < 2:\n",
    "    print(\"Uso: python gerar_analise.py MAR ABR MAI ...\")\n",
    "    sys.exit(1)\n",
    "\n",
    "for mes_abv in sys.argv[1:]:\n",
    "    mes_abv = mes_abv.upper()\n",
    "    if mes_abv not in meses_map:\n",
    "        print(f\"Mês inválido: {mes_abv}\")\n",
    "        continue\n",
    "\n",
    "    mes_num = meses_map[mes_abv]\n",
    "    pasta_nome = f\"2019-{mes_num}\"\n",
    "    pasta_path = os.path.join(base_path, pasta_nome)\n",
    "\n",
    "    os.makedirs(pasta_path, exist_ok=True)\n",
    "\n",
    "    df_mes = df[df['DTNASC'].dt.month == int(mes_num)]\n",
    "    df_dia = df_mes['DTNASC'].dt.day.value_counts().sort_index()\n",
    "\n",
    "    grafico_path = os.path.join(pasta_path, f\"nascimentos_{pasta_nome}.png\")\n",
    "    plt.figure(figsize=(10, 5))\n",
    "    df_dia.plot(kind='bar')\n",
    "    plt.title(f\"Nascimentos por dia - {pasta_nome}\")\n",
    "    plt.xlabel(\"Dia do mês\")\n",
    "    plt.ylabel(\"Número de nascimentos\")\n",
    "    plt.tight_layout()\n",
    "    plt.savefig(grafico_path)\n",
    "    plt.close()\n",
    "\n",
    "    print(f\"Gerado: {pasta_nome} -> {grafico_path}\")\n",
    "\n",
    "\n"
   ]
  },
  {
   "cell_type": "code",
   "execution_count": null,
   "metadata": {},
   "outputs": [],
   "source": []
  }
 ],
 "metadata": {
  "kernelspec": {
   "display_name": "Python [conda env:base] *",
   "language": "python",
   "name": "conda-base-py"
  },
  "language_info": {
   "codemirror_mode": {
    "name": "ipython",
    "version": 3
   },
   "file_extension": ".py",
   "mimetype": "text/x-python",
   "name": "python",
   "nbconvert_exporter": "python",
   "pygments_lexer": "ipython3",
   "version": "3.12.4"
  }
 },
 "nbformat": 4,
 "nbformat_minor": 4
}
