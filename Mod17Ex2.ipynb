{
 "cells": [
  {
   "cell_type": "markdown",
   "metadata": {},
   "source": [
    "# Árvores II - Tarefa 2"
   ]
  },
  {
   "cell_type": "markdown",
   "metadata": {},
   "source": [
    "### 1. Carregar as bases\n",
    "\n",
    "Vamos carregar as bases lidas na tarefa passada. Se você salvou essas bases em arquivo texto, basta fazer a leitura com o comando ```pd.read_csv``` das seguintes bases:\n",
    "\n",
    "- X_train\n",
    "- Y_train\n",
    "- X_test\n",
    "- Y_test\n",
    "\n",
    "Não se esqueça de considerar a leitura dos índices dos arquivos no ```read_csv()```!"
   ]
  },
  {
   "cell_type": "code",
   "execution_count": 14,
   "metadata": {},
   "outputs": [],
   "source": [
    "import pandas as pd\n",
    "import seaborn as sns\n",
    "import matplotlib.pyplot as plt\n",
    "import numpy as np\n",
    "from sklearn.tree import DecisionTreeClassifier\n",
    "from sklearn.model_selection import train_test_split\n",
    "from sklearn.metrics import accuracy_score, confusion_matrix, ConfusionMatrixDisplay\n"
   ]
  },
  {
   "cell_type": "code",
   "execution_count": 8,
   "metadata": {},
   "outputs": [],
   "source": [
    "path_original = r'C:\\Users\\shinoki\\Documents\\data_science\\tarefa_python\\UCI HAR Dataset\\\\'\n",
    "\n",
    "y_train = pd.read_csv(path_original + 'train\\\\y_train.txt', header=None, names=['activity'])\n",
    "y_test = pd.read_csv(path_original + 'test\\\\y_test.txt', header=None, names=['activity'])\n",
    "\n",
    "path = r'C:\\Users\\shinoki\\Documents\\data_science\\tarefa_python\\\\'\n",
    "y_train.to_csv(path + 'y_train.csv', index=False)\n",
    "y_test.to_csv(path + 'y_test.csv', index=False)\n",
    "\n"
   ]
  },
  {
   "cell_type": "markdown",
   "metadata": {},
   "source": [
    "### 2. Divisão da base em Treino, Validação e Teste\n",
    "\n",
    "A base já se encontra dividida em Treino e Validação. O que vamos fazer então é extrair uma base de Validação da base de Treino.\n",
    "\n",
    "Extraia 25% da base de treino como base de validação."
   ]
  },
  {
   "cell_type": "code",
   "execution_count": 10,
   "metadata": {},
   "outputs": [
    {
     "name": "stdout",
     "output_type": "stream",
     "text": [
      "Tamanho treino reduzido: 5514 amostras\n",
      "Tamanho validação: 1838 amostras\n"
     ]
    }
   ],
   "source": [
    "X_train_reduced, X_val, y_train_reduced, y_val = train_test_split(\n",
    "    X_train, y_train, test_size=0.25, random_state=42, stratify=y_train)\n",
    "\n",
    "print(f'Tamanho treino reduzido: {X_train_reduced.shape[0]} amostras')\n",
    "print(f'Tamanho validação: {X_val.shape[0]} amostras')"
   ]
  },
  {
   "cell_type": "markdown",
   "metadata": {},
   "source": [
    "### 3. Melhores 3 variáveis\n",
    "\n",
    "Rode uma árvore com profundidade máxima igual a 4 para prever a atividade humana com todas as variáveis.\n",
    "Observe a importância das variáveis e considere as 3 variáveis com maior importância para os próximos passos.\n",
    "Dica: utilize o atributo ```clf.feature_importances_``` da árvore treinada."
   ]
  },
  {
   "cell_type": "code",
   "execution_count": 11,
   "metadata": {},
   "outputs": [
    {
     "name": "stdout",
     "output_type": "stream",
     "text": [
      "Top 3 variáveis importantes:\n",
      "                             feature  importance\n",
      "52               tGravityAcc-min()-X    0.283674\n",
      "389  fBodyAccJerk-bandsEnergy()-1,16    0.254900\n",
      "559             angle(Y,gravityMean)    0.166670\n"
     ]
    }
   ],
   "source": [
    "from sklearn.tree import DecisionTreeClassifier\n",
    "\n",
    "clf = DecisionTreeClassifier(max_depth=4, random_state=42)\n",
    "clf.fit(X_train, y_train.values.ravel())  \n",
    "importances = clf.feature_importances_\n",
    "\n",
    "import pandas as pd\n",
    "feat_importance = pd.DataFrame({\n",
    "    'feature': X_train.columns,\n",
    "    'importance': importances\n",
    "})\n",
    "\n",
    "feat_importance_sorted = feat_importance.sort_values(by='importance', ascending=False)\n",
    "\n",
    "top3_features = feat_importance_sorted.head(3)\n",
    "\n",
    "print(\"Top 3 variáveis importantes:\")\n",
    "print(top3_features)\n"
   ]
  },
  {
   "cell_type": "markdown",
   "metadata": {},
   "source": [
    "### 4. Construa uma árvore com as 3 melhores variáveis\n",
    "\n",
    "Utilizando as três variáveis encontradas acima, construa uma árvore de decisão. Encontre o melhor ```ccp_alpha``` utilizando a base de validação, conforme a estrutura que vimos em aula."
   ]
  },
  {
   "cell_type": "code",
   "execution_count": 13,
   "metadata": {},
   "outputs": [
    {
     "name": "stdout",
     "output_type": "stream",
     "text": [
      "ccp_alphas selecionados: [7.99062908e-06 1.48080116e-05 4.47153181e-05 1.11815400e-04\n",
      " 1.49619151e-04 2.36047504e-04 3.56438552e-04 4.22132653e-04\n",
      " 5.49650140e-04 6.81899062e-04 7.79037038e-04 9.30300897e-04\n",
      " 1.12330919e-03 1.73351139e-03 2.18234517e-03 3.00764678e-03\n",
      " 7.53305455e-03 1.67255730e-01]\n",
      "CPU times: total: 46.9 ms\n",
      "Wall time: 56.8 ms\n"
     ]
    }
   ],
   "source": [
    "%%time\n",
    "\n",
    "top3_vars = ['tGravityAcc-min()-X', 'fBodyAccJerk-bandsEnergy()-1,16', 'angle(Y,gravityMean)']\n",
    "\n",
    "X_train_reduced_top3 = X_train_reduced[top3_vars]\n",
    "X_val_top3 = X_val[top3_vars]\n",
    "\n",
    "clf = DecisionTreeClassifier(random_state=42, min_samples_leaf=20)\n",
    "clf.fit(X_train_reduced_top3, y_train_reduced.values.ravel())\n",
    "\n",
    "path = clf.cost_complexity_pruning_path(X_train_reduced_top3, y_train_reduced.values.ravel())\n",
    "ccp_alphas = path.ccp_alphas\n",
    "\n",
    "ccp_alphas = np.unique(ccp_alphas[ccp_alphas > 0])\n",
    "ccp_alphas_sampled = ccp_alphas[::5]\n",
    "\n",
    "print(\"ccp_alphas selecionados:\", ccp_alphas_sampled)\n",
    "\n"
   ]
  },
  {
   "cell_type": "markdown",
   "metadata": {},
   "source": [
    "### 5. Avaliação do modelo\n",
    "\n",
    "Avalie a árvore encontrada no item anterior na base de testes."
   ]
  },
  {
   "cell_type": "code",
   "execution_count": 15,
   "metadata": {},
   "outputs": [
    {
     "name": "stdout",
     "output_type": "stream",
     "text": [
      "ccp_alpha: 0.00000799 -> acurácia validação: 0.8825\n",
      "ccp_alpha: 0.00000871 -> acurácia validação: 0.8825\n",
      "ccp_alpha: 0.00001295 -> acurácia validação: 0.8825\n",
      "ccp_alpha: 0.00001354 -> acurácia validação: 0.8825\n",
      "ccp_alpha: 0.00001468 -> acurácia validação: 0.8825\n",
      "ccp_alpha: 0.00001481 -> acurácia validação: 0.8825\n",
      "ccp_alpha: 0.00001509 -> acurácia validação: 0.8825\n",
      "ccp_alpha: 0.00001600 -> acurácia validação: 0.8825\n",
      "ccp_alpha: 0.00001608 -> acurácia validação: 0.8825\n",
      "ccp_alpha: 0.00001649 -> acurácia validação: 0.8825\n",
      "ccp_alpha: 0.00004472 -> acurácia validação: 0.8825\n",
      "ccp_alpha: 0.00007024 -> acurácia validação: 0.8825\n",
      "ccp_alpha: 0.00007376 -> acurácia validação: 0.8825\n",
      "ccp_alpha: 0.00009166 -> acurácia validação: 0.8825\n",
      "ccp_alpha: 0.00009226 -> acurácia validação: 0.8825\n",
      "ccp_alpha: 0.00011182 -> acurácia validação: 0.8825\n",
      "ccp_alpha: 0.00012252 -> acurácia validação: 0.8825\n",
      "ccp_alpha: 0.00012413 -> acurácia validação: 0.8825\n",
      "ccp_alpha: 0.00014549 -> acurácia validação: 0.8825\n",
      "ccp_alpha: 0.00014912 -> acurácia validação: 0.8825\n",
      "ccp_alpha: 0.00014962 -> acurácia validação: 0.8825\n",
      "ccp_alpha: 0.00015371 -> acurácia validação: 0.8825\n",
      "ccp_alpha: 0.00017410 -> acurácia validação: 0.8825\n",
      "ccp_alpha: 0.00018136 -> acurácia validação: 0.8825\n",
      "ccp_alpha: 0.00023304 -> acurácia validação: 0.8825\n",
      "ccp_alpha: 0.00023605 -> acurácia validação: 0.8825\n",
      "ccp_alpha: 0.00025181 -> acurácia validação: 0.8825\n",
      "ccp_alpha: 0.00025709 -> acurácia validação: 0.8825\n",
      "ccp_alpha: 0.00027144 -> acurácia validação: 0.8825\n",
      "ccp_alpha: 0.00030171 -> acurácia validação: 0.8825\n",
      "ccp_alpha: 0.00035644 -> acurácia validação: 0.8825\n",
      "ccp_alpha: 0.00036057 -> acurácia validação: 0.8825\n",
      "ccp_alpha: 0.00038634 -> acurácia validação: 0.8825\n",
      "ccp_alpha: 0.00040378 -> acurácia validação: 0.8814\n",
      "ccp_alpha: 0.00040838 -> acurácia validação: 0.8814\n",
      "ccp_alpha: 0.00042213 -> acurácia validação: 0.8814\n",
      "ccp_alpha: 0.00044744 -> acurácia validação: 0.8814\n",
      "ccp_alpha: 0.00046427 -> acurácia validação: 0.8814\n",
      "ccp_alpha: 0.00048941 -> acurácia validação: 0.8814\n",
      "ccp_alpha: 0.00051901 -> acurácia validação: 0.8814\n",
      "ccp_alpha: 0.00054965 -> acurácia validação: 0.8814\n",
      "ccp_alpha: 0.00056802 -> acurácia validação: 0.8836\n",
      "ccp_alpha: 0.00056870 -> acurácia validação: 0.8841\n",
      "ccp_alpha: 0.00066241 -> acurácia validação: 0.8868\n",
      "ccp_alpha: 0.00067144 -> acurácia validação: 0.8868\n",
      "ccp_alpha: 0.00068190 -> acurácia validação: 0.8868\n",
      "ccp_alpha: 0.00069722 -> acurácia validação: 0.8868\n",
      "ccp_alpha: 0.00070231 -> acurácia validação: 0.8868\n",
      "ccp_alpha: 0.00075957 -> acurácia validação: 0.8874\n",
      "ccp_alpha: 0.00076553 -> acurácia validação: 0.8874\n",
      "ccp_alpha: 0.00077904 -> acurácia validação: 0.8874\n",
      "ccp_alpha: 0.00081596 -> acurácia validação: 0.8890\n",
      "ccp_alpha: 0.00081834 -> acurácia validação: 0.8896\n",
      "ccp_alpha: 0.00086022 -> acurácia validação: 0.8896\n",
      "ccp_alpha: 0.00086474 -> acurácia validação: 0.8912\n",
      "ccp_alpha: 0.00093030 -> acurácia validação: 0.8879\n",
      "ccp_alpha: 0.00095762 -> acurácia validação: 0.8879\n",
      "ccp_alpha: 0.00102994 -> acurácia validação: 0.8836\n",
      "ccp_alpha: 0.00104505 -> acurácia validação: 0.8792\n",
      "ccp_alpha: 0.00109689 -> acurácia validação: 0.8781\n",
      "ccp_alpha: 0.00112331 -> acurácia validação: 0.8781\n",
      "ccp_alpha: 0.00116994 -> acurácia validação: 0.8781\n",
      "ccp_alpha: 0.00122898 -> acurácia validação: 0.8781\n",
      "ccp_alpha: 0.00126010 -> acurácia validação: 0.8765\n",
      "ccp_alpha: 0.00126291 -> acurácia validação: 0.8738\n",
      "ccp_alpha: 0.00173351 -> acurácia validação: 0.8716\n",
      "ccp_alpha: 0.00179653 -> acurácia validação: 0.8711\n",
      "ccp_alpha: 0.00195456 -> acurácia validação: 0.8683\n",
      "ccp_alpha: 0.00199743 -> acurácia validação: 0.8683\n",
      "ccp_alpha: 0.00214635 -> acurácia validação: 0.8662\n",
      "ccp_alpha: 0.00218235 -> acurácia validação: 0.8662\n",
      "ccp_alpha: 0.00241367 -> acurácia validação: 0.8624\n",
      "ccp_alpha: 0.00264386 -> acurácia validação: 0.8667\n",
      "ccp_alpha: 0.00267649 -> acurácia validação: 0.8662\n",
      "ccp_alpha: 0.00271473 -> acurácia validação: 0.8613\n",
      "ccp_alpha: 0.00300765 -> acurácia validação: 0.8613\n",
      "ccp_alpha: 0.00355561 -> acurácia validação: 0.8613\n",
      "ccp_alpha: 0.00438038 -> acurácia validação: 0.8504\n",
      "ccp_alpha: 0.00516455 -> acurácia validação: 0.8504\n",
      "ccp_alpha: 0.00752707 -> acurácia validação: 0.8482\n",
      "ccp_alpha: 0.00753305 -> acurácia validação: 0.8482\n",
      "ccp_alpha: 0.00797066 -> acurácia validação: 0.8482\n",
      "ccp_alpha: 0.04336747 -> acurácia validação: 0.7720\n",
      "ccp_alpha: 0.06291129 -> acurácia validação: 0.6866\n",
      "ccp_alpha: 0.10569980 -> acurácia validação: 0.5452\n",
      "ccp_alpha: 0.16725573 -> acurácia validação: 0.3787\n",
      "ccp_alpha: 0.18610228 -> acurácia validação: 0.1915\n",
      "\n",
      "Melhor ccp_alpha: 0.00086474 com acurácia 0.8912\n"
     ]
    }
   ],
   "source": [
    "melhor_alpha = None\n",
    "melhor_acc = 0\n",
    "\n",
    "for alpha in ccp_alphas:\n",
    "    clf = DecisionTreeClassifier(random_state=42, min_samples_leaf=20, ccp_alpha=alpha)\n",
    "    clf.fit(X_train_reduced_top3, y_train_reduced.values.ravel())\n",
    "    y_pred_val = clf.predict(X_val_top3)\n",
    "    acc = accuracy_score(y_val.values.ravel(), y_pred_val)\n",
    "    print(f\"ccp_alpha: {alpha:.8f} -> acurácia validação: {acc:.4f}\")\n",
    "    if acc > melhor_acc:\n",
    "        melhor_acc = acc\n",
    "        melhor_alpha = alpha\n",
    "\n",
    "print(f\"\\nMelhor ccp_alpha: {melhor_alpha:.8f} com acurácia {melhor_acc:.4f}\")\n"
   ]
  },
  {
   "cell_type": "code",
   "execution_count": 16,
   "metadata": {},
   "outputs": [
    {
     "name": "stdout",
     "output_type": "stream",
     "text": [
      "Acurácia na base de teste: 0.6973\n"
     ]
    },
    {
     "data": {
      "image/png": "[encoded data removed]",
      "text/plain": [
       "<Figure size 640x480 with 2 Axes>"
      ]
     },
     "metadata": {},
     "output_type": "display_data"
    }
   ],
   "source": [
    "melhor_ccp_alpha = 0.00086474  \n",
    "\n",
    "clf_final = DecisionTreeClassifier(random_state=42, min_samples_leaf=20, ccp_alpha=melhor_ccp_alpha)\n",
    "clf_final.fit(X_train_reduced_top3, y_train_reduced.values.ravel())\n",
    "\n",
    "X_test_top3 = X_test[top3_vars]\n",
    "\n",
    "y_pred = clf_final.predict(X_test_top3)\n",
    "\n",
    "acc = accuracy_score(y_test.values.ravel(), y_pred)\n",
    "print(f\"Acurácia na base de teste: {acc:.4f}\")\n",
    "\n",
    "cm = confusion_matrix(y_test.values.ravel(), y_pred)\n",
    "disp = ConfusionMatrixDisplay(confusion_matrix=cm)\n",
    "disp.plot(cmap=plt.cm.Blues)\n",
    "plt.title(\"Matriz de Confusão - Teste\")\n",
    "plt.show()"
   ]
  },
  {
   "cell_type": "code",
   "execution_count": null,
   "metadata": {},
   "outputs": [],
   "source": []
  }
 ],
 "metadata": {
  "kernelspec": {
   "display_name": "Python [conda env:base] *",
   "language": "python",
   "name": "conda-base-py"
  },
  "language_info": {
   "codemirror_mode": {
    "name": "ipython",
    "version": 3
   },
   "file_extension": ".py",
   "mimetype": "text/x-python",
   "name": "python",
   "nbconvert_exporter": "python",
   "pygments_lexer": "ipython3",
   "version": "3.12.4"
  }
 },
 "nbformat": 4,
 "nbformat_minor": 4
}
