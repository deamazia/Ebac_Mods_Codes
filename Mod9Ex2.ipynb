{
 "cells": [
  {
   "cell_type": "markdown",
   "metadata": {
    "id": "eYvCczy6lTt7"
   },
   "source": [
    "# Livro para consulta:\n",
    "- https://jakevdp.github.io/PythonDataScienceHandbook/03.08-aggregation-and-grouping.html\n",
    "- https://jakevdp.github.io/PythonDataScienceHandbook/03.09-pivot-tables.html\n",
    "    "
   ]
  },
  {
   "cell_type": "markdown",
   "metadata": {
    "id": "oeWprAfnlTt-"
   },
   "source": [
    "# 1. Importando bibliotecas <a name=\"import\"></a>\n",
    "\n",
    "<div style=\"text-align: right\"\n",
    "     \n",
    "[Voltar ao índice](#Contents)"
   ]
  },
  {
   "cell_type": "code",
   "execution_count": 1,
   "metadata": {
    "ExecuteTime": {
     "end_time": "2021-06-06T21:12:37.298706Z",
     "start_time": "2021-06-06T21:12:36.656481Z"
    },
    "id": "y_9gYudilTt_"
   },
   "outputs": [],
   "source": [
    "import numpy as np\n",
    "import pandas as pd\n",
    "import seaborn as sns\n",
    "import matplotlib.pyplot as plt\n",
    "\n",
    "%matplotlib inline"
   ]
  },
  {
   "cell_type": "code",
   "execution_count": null,
   "metadata": {
    "id": "1yNG4iFTlTuA"
   },
   "outputs": [],
   "source": []
  },
  {
   "cell_type": "markdown",
   "metadata": {
    "id": "-cpxC-IBlTuA"
   },
   "source": [
    "# 2. Carregando o dataframe SINASC <a name=\"read\"></a>\n",
    "<div style=\"text-align: right\"\n",
    "     \n",
    "[Voltar ao índice](#Contents)"
   ]
  },
  {
   "cell_type": "code",
   "execution_count": 2,
   "metadata": {
    "ExecuteTime": {
     "end_time": "2021-06-06T21:12:37.762376Z",
     "start_time": "2021-06-06T21:12:37.728383Z"
    },
    "id": "nQZn7u4DlTuB",
    "outputId": "74b44036-69d9-4139-b291-621d77ed331b",
    "scrolled": true
   },
   "outputs": [
    {
     "data": {
      "text/html": [
       "<div>\n",
       "<style scoped>\n",
       "    .dataframe tbody tr th:only-of-type {\n",
       "        vertical-align: middle;\n",
       "    }\n",
       "\n",
       "    .dataframe tbody tr th {\n",
       "        vertical-align: top;\n",
       "    }\n",
       "\n",
       "    .dataframe thead th {\n",
       "        text-align: right;\n",
       "    }\n",
       "</style>\n",
       "<table border=\"1\" class=\"dataframe\">\n",
       "  <thead>\n",
       "    <tr style=\"text-align: right;\">\n",
       "      <th></th>\n",
       "      <th>ORIGEM</th>\n",
       "      <th>CODESTAB</th>\n",
       "      <th>CODMUNNASC</th>\n",
       "      <th>LOCNASC</th>\n",
       "      <th>IDADEMAE</th>\n",
       "      <th>ESTCIVMAE</th>\n",
       "      <th>ESCMAE</th>\n",
       "      <th>CODOCUPMAE</th>\n",
       "      <th>QTDFILVIVO</th>\n",
       "      <th>QTDFILMORT</th>\n",
       "      <th>...</th>\n",
       "      <th>KOTELCHUCK</th>\n",
       "      <th>CONTADOR</th>\n",
       "      <th>munResStatus</th>\n",
       "      <th>munResTipo</th>\n",
       "      <th>munResNome</th>\n",
       "      <th>munResUf</th>\n",
       "      <th>munResLat</th>\n",
       "      <th>munResLon</th>\n",
       "      <th>munResAlt</th>\n",
       "      <th>munResArea</th>\n",
       "    </tr>\n",
       "  </thead>\n",
       "  <tbody>\n",
       "    <tr>\n",
       "      <th>0</th>\n",
       "      <td>1</td>\n",
       "      <td>2679477.0</td>\n",
       "      <td>110001</td>\n",
       "      <td>1</td>\n",
       "      <td>19</td>\n",
       "      <td>5.0</td>\n",
       "      <td>8 a 11 anos</td>\n",
       "      <td>NaN</td>\n",
       "      <td>0.0</td>\n",
       "      <td>0.0</td>\n",
       "      <td>...</td>\n",
       "      <td>5</td>\n",
       "      <td>1</td>\n",
       "      <td>ATIVO</td>\n",
       "      <td>MUNIC</td>\n",
       "      <td>Alta Floresta D'Oeste</td>\n",
       "      <td>Rondônia</td>\n",
       "      <td>-11.93554</td>\n",
       "      <td>-61.99982</td>\n",
       "      <td>338.0</td>\n",
       "      <td>7067.025</td>\n",
       "    </tr>\n",
       "    <tr>\n",
       "      <th>1</th>\n",
       "      <td>1</td>\n",
       "      <td>2679477.0</td>\n",
       "      <td>110001</td>\n",
       "      <td>1</td>\n",
       "      <td>29</td>\n",
       "      <td>2.0</td>\n",
       "      <td>8 a 11 anos</td>\n",
       "      <td>999992.0</td>\n",
       "      <td>1.0</td>\n",
       "      <td>0.0</td>\n",
       "      <td>...</td>\n",
       "      <td>5</td>\n",
       "      <td>2</td>\n",
       "      <td>ATIVO</td>\n",
       "      <td>MUNIC</td>\n",
       "      <td>Alta Floresta D'Oeste</td>\n",
       "      <td>Rondônia</td>\n",
       "      <td>-11.93554</td>\n",
       "      <td>-61.99982</td>\n",
       "      <td>338.0</td>\n",
       "      <td>7067.025</td>\n",
       "    </tr>\n",
       "    <tr>\n",
       "      <th>2</th>\n",
       "      <td>1</td>\n",
       "      <td>2679477.0</td>\n",
       "      <td>110001</td>\n",
       "      <td>1</td>\n",
       "      <td>37</td>\n",
       "      <td>9.0</td>\n",
       "      <td>8 a 11 anos</td>\n",
       "      <td>513205.0</td>\n",
       "      <td>2.0</td>\n",
       "      <td>0.0</td>\n",
       "      <td>...</td>\n",
       "      <td>5</td>\n",
       "      <td>3</td>\n",
       "      <td>ATIVO</td>\n",
       "      <td>MUNIC</td>\n",
       "      <td>Alta Floresta D'Oeste</td>\n",
       "      <td>Rondônia</td>\n",
       "      <td>-11.93554</td>\n",
       "      <td>-61.99982</td>\n",
       "      <td>338.0</td>\n",
       "      <td>7067.025</td>\n",
       "    </tr>\n",
       "    <tr>\n",
       "      <th>3</th>\n",
       "      <td>1</td>\n",
       "      <td>2516500.0</td>\n",
       "      <td>110001</td>\n",
       "      <td>1</td>\n",
       "      <td>30</td>\n",
       "      <td>5.0</td>\n",
       "      <td>12 anos ou mais</td>\n",
       "      <td>231205.0</td>\n",
       "      <td>0.0</td>\n",
       "      <td>0.0</td>\n",
       "      <td>...</td>\n",
       "      <td>4</td>\n",
       "      <td>4</td>\n",
       "      <td>ATIVO</td>\n",
       "      <td>MUNIC</td>\n",
       "      <td>Alto Alegre dos Parecis</td>\n",
       "      <td>Rondônia</td>\n",
       "      <td>-12.13178</td>\n",
       "      <td>-61.85308</td>\n",
       "      <td>397.0</td>\n",
       "      <td>3958.273</td>\n",
       "    </tr>\n",
       "    <tr>\n",
       "      <th>4</th>\n",
       "      <td>1</td>\n",
       "      <td>2516500.0</td>\n",
       "      <td>110001</td>\n",
       "      <td>1</td>\n",
       "      <td>30</td>\n",
       "      <td>2.0</td>\n",
       "      <td>8 a 11 anos</td>\n",
       "      <td>999992.0</td>\n",
       "      <td>1.0</td>\n",
       "      <td>0.0</td>\n",
       "      <td>...</td>\n",
       "      <td>5</td>\n",
       "      <td>5</td>\n",
       "      <td>ATIVO</td>\n",
       "      <td>MUNIC</td>\n",
       "      <td>Alta Floresta D'Oeste</td>\n",
       "      <td>Rondônia</td>\n",
       "      <td>-11.93554</td>\n",
       "      <td>-61.99982</td>\n",
       "      <td>338.0</td>\n",
       "      <td>7067.025</td>\n",
       "    </tr>\n",
       "  </tbody>\n",
       "</table>\n",
       "<p>5 rows × 69 columns</p>\n",
       "</div>"
      ],
      "text/plain": [
       "   ORIGEM   CODESTAB  CODMUNNASC  LOCNASC  IDADEMAE  ESTCIVMAE  \\\n",
       "0       1  2679477.0      110001        1        19        5.0   \n",
       "1       1  2679477.0      110001        1        29        2.0   \n",
       "2       1  2679477.0      110001        1        37        9.0   \n",
       "3       1  2516500.0      110001        1        30        5.0   \n",
       "4       1  2516500.0      110001        1        30        2.0   \n",
       "\n",
       "            ESCMAE  CODOCUPMAE  QTDFILVIVO  QTDFILMORT  ...  KOTELCHUCK  \\\n",
       "0      8 a 11 anos         NaN         0.0         0.0  ...           5   \n",
       "1      8 a 11 anos    999992.0         1.0         0.0  ...           5   \n",
       "2      8 a 11 anos    513205.0         2.0         0.0  ...           5   \n",
       "3  12 anos ou mais    231205.0         0.0         0.0  ...           4   \n",
       "4      8 a 11 anos    999992.0         1.0         0.0  ...           5   \n",
       "\n",
       "  CONTADOR munResStatus munResTipo               munResNome  munResUf  \\\n",
       "0        1        ATIVO      MUNIC    Alta Floresta D'Oeste  Rondônia   \n",
       "1        2        ATIVO      MUNIC    Alta Floresta D'Oeste  Rondônia   \n",
       "2        3        ATIVO      MUNIC    Alta Floresta D'Oeste  Rondônia   \n",
       "3        4        ATIVO      MUNIC  Alto Alegre dos Parecis  Rondônia   \n",
       "4        5        ATIVO      MUNIC    Alta Floresta D'Oeste  Rondônia   \n",
       "\n",
       "   munResLat munResLon  munResAlt  munResArea  \n",
       "0  -11.93554 -61.99982      338.0    7067.025  \n",
       "1  -11.93554 -61.99982      338.0    7067.025  \n",
       "2  -11.93554 -61.99982      338.0    7067.025  \n",
       "3  -12.13178 -61.85308      397.0    3958.273  \n",
       "4  -11.93554 -61.99982      338.0    7067.025  \n",
       "\n",
       "[5 rows x 69 columns]"
      ]
     },
     "execution_count": 2,
     "metadata": {},
     "output_type": "execute_result"
    }
   ],
   "source": [
    "sinasc_raw = pd.read_csv('SINASC_RO_2019.csv')\n",
    "sinasc_raw.head()"
   ]
  },
  {
   "cell_type": "code",
   "execution_count": null,
   "metadata": {
    "id": "Pz_6GorclTuC"
   },
   "outputs": [],
   "source": []
  },
  {
   "cell_type": "code",
   "execution_count": null,
   "metadata": {
    "id": "C7UKJm4slTuD"
   },
   "outputs": [],
   "source": []
  },
  {
   "cell_type": "code",
   "execution_count": null,
   "metadata": {
    "id": "X6JmtT08lTuD"
   },
   "outputs": [],
   "source": []
  },
  {
   "cell_type": "markdown",
   "metadata": {
    "id": "9GOoel3-lTuD"
   },
   "source": [
    "# Tarefa 2"
   ]
  },
  {
   "cell_type": "markdown",
   "metadata": {
    "id": "iNNeWswTlTuD"
   },
   "source": [
    "### 1. Crie 2 faixas de Latitude do município (munResLat) sendo uma acima e outra abaixo de -10.5 e aplique o groupby usando essas faixas como chave e realize operações de soma, media, minimo, maximo, mediana, desvio padrao, variancia pra pelo menos 2 variáveis numéricas ainda não utilizadas"
   ]
  },
  {
   "cell_type": "code",
   "execution_count": 3,
   "metadata": {
    "id": "HXtelNbnlTuE"
   },
   "outputs": [
    {
     "name": "stdout",
     "output_type": "stream",
     "text": [
      "                        QTDFILVIVO                                        \\\n",
      "                               sum      mean  min   max median       std   \n",
      "FaixaLatitude                                                              \n",
      "Abaixo ou igual a -10.5    12468.0  0.974824  0.0  14.0    1.0  1.108399   \n",
      "Acima de -10.5             13377.0  1.109756  0.0  12.0    1.0  1.200949   \n",
      "\n",
      "                                  QTDFILMORT                              \\\n",
      "                              var        sum      mean  min   max median   \n",
      "FaixaLatitude                                                              \n",
      "Abaixo ou igual a -10.5  1.228547     3089.0  0.241517  0.0  28.0    0.0   \n",
      "Acima de -10.5           1.442279     3452.0  0.286378  0.0   9.0    0.0   \n",
      "\n",
      "                                             \n",
      "                              std       var  \n",
      "FaixaLatitude                                \n",
      "Abaixo ou igual a -10.5  0.598494  0.358195  \n",
      "Acima de -10.5           0.624683  0.390228  \n"
     ]
    }
   ],
   "source": [
    "sinasc_raw['FaixaLatitude'] = sinasc_raw['munResLat'].apply(\n",
    "    lambda lat: 'Acima de -10.5' if lat > -10.5 else 'Abaixo ou igual a -10.5'\n",
    ")\n",
    "\n",
    "sinasc_filtrado = sinasc_raw[['FaixaLatitude', 'QTDFILVIVO', 'QTDFILMORT']].dropna()\n",
    "\n",
    "estatisticas = sinasc_filtrado.groupby('FaixaLatitude').agg({\n",
    "    'QTDFILVIVO': ['sum', 'mean', 'min', 'max', 'median', 'std', 'var'],\n",
    "    'QTDFILMORT': ['sum', 'mean', 'min', 'max', 'median', 'std', 'var']\n",
    "})\n",
    "\n",
    "print(estatisticas)"
   ]
  },
  {
   "cell_type": "markdown",
   "metadata": {
    "id": "AK33D0mdlTuE"
   },
   "source": [
    "### 2. Crie 2 faixas da área dos municípios (munResArea) sendo uma acima e outra abaixo de 3000 e aplique o groupby usando essas faixas como chave e realize operações de soma, media, minimo, maximo, mediana, desvio padrao, variancia pra pelo menos 2 variáveis numéricas ainda não utilizadas\n"
   ]
  },
  {
   "cell_type": "code",
   "execution_count": 4,
   "metadata": {
    "id": "qqCXJtYIlTuE"
   },
   "outputs": [
    {
     "name": "stdout",
     "output_type": "stream",
     "text": [
      "                       IDADEMAE                                      \\\n",
      "                            sum       mean min max median       std   \n",
      "FaixaArea                                                             \n",
      "Abaixo ou igual a 3000   137413  26.324330  11  53   26.0  6.305013   \n",
      "Acima de 3000            567848  26.038518  12  53   25.0  6.405497   \n",
      "\n",
      "                                  CONSULTAS                           \\\n",
      "                              var       sum      mean min max median   \n",
      "FaixaArea                                                              \n",
      "Abaixo ou igual a 3000  39.753192     19521  3.739655   1   9    4.0   \n",
      "Acima de 3000           41.030387     77142  3.537326   1   9    4.0   \n",
      "\n",
      "                                            \n",
      "                             std       var  \n",
      "FaixaArea                                   \n",
      "Abaixo ou igual a 3000  0.608617  0.370414  \n",
      "Acima de 3000           0.820967  0.673986  \n"
     ]
    }
   ],
   "source": [
    "sinasc_raw['FaixaArea'] = sinasc_raw['munResArea'].apply(\n",
    "    lambda area: 'Acima de 3000' if area > 3000 else 'Abaixo ou igual a 3000'\n",
    ")\n",
    "\n",
    "variaveis = ['FaixaArea', 'IDADEMAE', 'CONSULTAS']\n",
    "df_area = sinasc_raw[variaveis].dropna()\n",
    "\n",
    "estatisticas_area = df_area.groupby('FaixaArea').agg({\n",
    "    'IDADEMAE': ['sum', 'mean', 'min', 'max', 'median', 'std', 'var'],\n",
    "    'CONSULTAS': ['sum', 'mean', 'min', 'max', 'median', 'std', 'var']\n",
    "})\n",
    "\n",
    "print(estatisticas_area)"
   ]
  },
  {
   "cell_type": "markdown",
   "metadata": {
    "id": "aWaljnnxlTuE"
   },
   "source": [
    "### 3. Determine faixas na variável munResAlt e aplique o groupby usando essas faixas como chave e realize operações de soma, media, minimo, maximo, mediana, desvio padrao, variancia pra pelo menos 2 variáveis numéricas ainda não utilizadas"
   ]
  },
  {
   "cell_type": "code",
   "execution_count": 5,
   "metadata": {},
   "outputs": [
    {
     "name": "stdout",
     "output_type": "stream",
     "text": [
      "               QTDFILVIVO                                                  \\\n",
      "                      sum      mean  min   max median       std       var   \n",
      "FaixaAltitude                                                               \n",
      "Alta altitude      5726.0  0.942707  0.0  12.0    1.0  1.017714  1.035742   \n",
      "Altitude média    11491.0  1.012869  0.0  14.0    1.0  1.164613  1.356322   \n",
      "Baixa altitude     8628.0  1.162020  0.0  12.0    1.0  1.236788  1.529646   \n",
      "\n",
      "               QTDFILMORT                                                  \n",
      "                      sum      mean  min   max median       std       var  \n",
      "FaixaAltitude                                                              \n",
      "Alta altitude      1463.0  0.240863  0.0  28.0    0.0  0.642198  0.412419  \n",
      "Altitude média     2824.0  0.248920  0.0   9.0    0.0  0.575493  0.331193  \n",
      "Baixa altitude     2254.0  0.303569  0.0   9.0    0.0  0.637563  0.406486  \n"
     ]
    }
   ],
   "source": [
    "def classificar_altitude(alt):\n",
    "    if alt <= 100:\n",
    "        return 'Baixa altitude'\n",
    "    elif alt <= 200:\n",
    "        return 'Altitude média'\n",
    "    else:\n",
    "        return 'Alta altitude'\n",
    "\n",
    "sinasc_raw['FaixaAltitude'] = sinasc_raw['munResAlt'].apply(classificar_altitude)\n",
    "\n",
    "variaveis = ['FaixaAltitude', 'QTDFILVIVO', 'QTDFILMORT']\n",
    "df_altitude = sinasc_raw[variaveis].dropna()\n",
    "\n",
    "estatisticas_altitude = df_altitude.groupby('FaixaAltitude').agg({\n",
    "    'QTDFILVIVO': ['sum', 'mean', 'min', 'max', 'median', 'std', 'var'],\n",
    "    'QTDFILMORT': ['sum', 'mean', 'min', 'max', 'median', 'std', 'var']\n",
    "})\n",
    "\n",
    "print(estatisticas_altitude)\n"
   ]
  },
  {
   "cell_type": "markdown",
   "metadata": {
    "id": "aF1riawJlTuF"
   },
   "source": [
    "### 4. Plote no mesmo grafico ao longo do tempo a idade media das mulheres de cada regiao imediatas de rondonia\n"
   ]
  },
  {
   "cell_type": "code",
   "execution_count": 6,
   "metadata": {
    "id": "6aZM5xKale9c"
   },
   "outputs": [],
   "source": [
    "imediatas = {\n",
    "    \"Candeias do Jamari\": \"Porto Velho\",\n",
    "    \"Guajará-Mirim\": \"Porto Velho\",\n",
    "    \"Itapuã do Oeste\": \"Porto Velho\",\n",
    "    \"Nova Mamoré\": \"Porto Velho\",\n",
    "    \"Porto Velho\": \"Porto Velho\",\n",
    "    \"Ariquemes\": \"Ariquemes\",\n",
    "    \"Alto Paraíso\": \"Ariquemes\",\n",
    "    \"Buritis\": \"Ariquemes\",\n",
    "    \"Cacaulândia\": \"Ariquemes\",\n",
    "    \"Campo Novo de Rondônia\": \"Ariquemes\",\n",
    "    \"Cujubim\": \"Ariquemes\",\n",
    "    \"Monte Negro\": \"Ariquemes\",\n",
    "    \"Rio Crespo\": \"Ariquemes\",\n",
    "    \"Jaru\": \"Jaru\",\n",
    "    \"Governador Jorge Teixeira\": \"Jaru\",\n",
    "    \"Machadinho D'Oeste\": \"Jaru\",\n",
    "    \"Theobroma\": \"Jaru\",\n",
    "    \"Vale do Anari\": \"Jaru\",\n",
    "    \"Alvorada D'Oeste\": \"Ji-Paraná\",\n",
    "    \"Costa Marques\": \"Ji-Paraná\",\n",
    "    \"Ji-Paraná\": \"Ji-Paraná\",\n",
    "    \"Mirante da Serra\": \"Ji-Paraná\",\n",
    "    \"Nova União\": \"Ji-Paraná\",\n",
    "    \"Ouro Preto do Oeste\": \"Ji-Paraná\",\n",
    "    \"Presidente Médici\": \"Ji-Paraná\",\n",
    "    \"São Francisco do Guaporé\": \"Ji-Paraná\",\n",
    "    \"São Miguel do Guaporé\": \"Ji-Paraná\",\n",
    "    \"Seringueiras\": \"Ji-Paraná\",\n",
    "    \"Teixeirópolis\": \"Ji-Paraná\",\n",
    "    \"Urupá\": \"Ji-Paraná\",\n",
    "    \"Vale do Paraíso\": \"Ji-Paraná\",\n",
    "    \"Cacoal\": \"Cacoal\",\n",
    "    \"Alta Floresta D'Oeste\": \"Cacoal\",\n",
    "    \"Alto Alegre dos Parecis\": \"Cacoal\",\n",
    "    \"Castanheiras\": \"Cacoal\",\n",
    "    \"Espigão D'Oeste\": \"Cacoal\",\n",
    "    \"Ministro Andreazza\": \"Cacoal\",\n",
    "    \"Nova Brasilândia D'Oeste\": \"Cacoal\",\n",
    "    \"Novo Horizonte do Oeste\": \"Cacoal\",\n",
    "    \"Parecis\": \"Cacoal\",\n",
    "    \"Pimenta Bueno\": \"Cacoal\",\n",
    "    \"Primavera de Rondônia\": \"Cacoal\",\n",
    "    \"Rolim de Moura\": \"Cacoal\",\n",
    "    \"Santa Luzia D'Oeste\": \"Cacoal\",\n",
    "    \"São Felipe D'Oeste\": \"Cacoal\",\n",
    "    \"Vilhena\": \"Vilhena\",\n",
    "    \"Cabixi\": \"Vilhena\",\n",
    "    \"Cerejeiras\": \"Vilhena\",\n",
    "    \"Chupinguaia\": \"Vilhena\",\n",
    "    \"Colorado do Oeste\": \"Vilhena\",\n",
    "    \"Corumbiara\": \"Vilhena\",\n",
    "    \"Pimenteiras do Oeste\": \"Vilhena\"\n",
    "}"
   ]
  },
  {
   "cell_type": "code",
   "execution_count": 7,
   "metadata": {},
   "outputs": [
    {
     "data": {
      "text/plain": [
       "<Figure size 1400x700 with 0 Axes>"
      ]
     },
     "metadata": {},
     "output_type": "display_data"
    },
    {
     "data": {
      "image/png": "[encoded data removed]",
      "text/plain": [
       "<Figure size 640x480 with 1 Axes>"
      ]
     },
     "metadata": {},
     "output_type": "display_data"
    }
   ],
   "source": [
    "sinasc_raw['regiao_imediata'] = sinasc_raw['munResNome'].map(imediatas)\n",
    "\n",
    "sinasc_raw['DTNASC'] = pd.to_datetime(sinasc_raw['DTNASC'], errors='coerce')\n",
    "\n",
    "sinasc_raw['ano_mes'] = sinasc_raw['DTNASC'].dt.to_period('M')\n",
    "\n",
    "dados_validos = sinasc_raw[(sinasc_raw['IDADEMAE'].notna()) & (sinasc_raw['regiao_imediata'].notna())]\n",
    "\n",
    "media_idade_maes = dados_validos.groupby(['regiao_imediata', 'ano_mes'])['IDADEMAE'].mean().reset_index()\n",
    "\n",
    "tabela_plot = media_idade_maes.pivot(index='ano_mes', columns='regiao_imediata', values='IDADEMAE')\n",
    "\n",
    "plt.figure(figsize=(14, 7))\n",
    "tabela_plot.plot(marker='o')\n",
    "plt.title('Idade média das mães por região imediata ao longo do tempo')\n",
    "plt.xlabel('Ano-Mês')\n",
    "plt.ylabel('Idade média das mães')\n",
    "plt.legend(title='Região Imediata')\n",
    "plt.grid(True)\n",
    "plt.tight_layout()\n",
    "plt.show()"
   ]
  },
  {
   "cell_type": "markdown",
   "metadata": {
    "id": "yt-LIWxblTuF"
   },
   "source": [
    "### 5. Utilize a tabela do link abaixo e crie faixas utilizando o mapping e gere agrupamentos utilizando essas faixas como chave\n"
   ]
  },
  {
   "cell_type": "markdown",
   "metadata": {
    "id": "moZakjgIlTuF"
   },
   "source": [
    "### 5.1 IDH\n",
    "A - https://pt.wikipedia.org/wiki/Lista_de_munic%C3%ADpios_de_Rond%C3%B4nia_por_IDH-M\n"
   ]
  },
  {
   "cell_type": "code",
   "execution_count": 8,
   "metadata": {
    "id": "DaJk66_BlTuF"
   },
   "outputs": [
    {
     "name": "stdout",
     "output_type": "stream",
     "text": [
      "                 PESO                                              \\\n",
      "                  sum         mean  min   max  median         std   \n",
      "Faixa_IDHM                                                          \n",
      "Alto         54533046  3247.174348  292  5720  3275.0  550.938207   \n",
      "Baixo         4300425  3245.603774  730  4785  3255.0  512.113654   \n",
      "Médio        22326248  3246.981966  258  5190  3270.0  527.281096   \n",
      "Não listado   6198849  3211.838860  370  5985  3250.0  556.465955   \n",
      "\n",
      "                              APGAR5                                        \\\n",
      "                       var       sum      mean  min   max median       std   \n",
      "Faixa_IDHM                                                                   \n",
      "Alto         303532.907968  154029.0  9.171668  0.0  10.0    9.0  0.758370   \n",
      "Baixo        262260.395001   12280.0  9.267925  1.0  10.0    9.0  0.807764   \n",
      "Médio        278025.354147   63435.0  9.225567  0.0  10.0    9.0  0.803008   \n",
      "Não listado  309654.359194   17405.0  9.018135  0.0  10.0    9.0  0.965009   \n",
      "\n",
      "                       \n",
      "                  var  \n",
      "Faixa_IDHM             \n",
      "Alto         0.575125  \n",
      "Baixo        0.652482  \n",
      "Médio        0.644821  \n",
      "Não listado  0.931242  \n"
     ]
    }
   ],
   "source": [
    "idh_map = {\n",
    "    'Alto': ['Porto Velho', 'Vilhena', 'Cacoal', 'Ji-Paraná', 'Pimenta Bueno', 'Ariquemes', 'Rolim de Moura'],\n",
    "    'Médio': [\n",
    "        'Cerejeiras', 'Jaru', 'Colorado do Oeste', 'Ouro Preto do Oeste',\n",
    "        'Espigão d\\'Oeste', 'Santa Luzia d\\'Oeste', 'Pimenteiras do Oeste',\n",
    "        'Presidente Médici', 'Castanheiras', 'Guajará-Mirim', 'Chupinguaia',\n",
    "        'Cabixi', 'Candeias do Jamari', 'São Felipe d\\'Oeste', 'Cacaulândia',\n",
    "        'São Miguel do Guaporé', 'Mirante da Serra', 'Alvorada d\\'Oeste',\n",
    "        'Teixeirópolis', 'Nova Brasilândia d\\'Oeste', 'Rio Crespo',\n",
    "        'Primavera de Rondônia', 'Alta Floresta d\\'Oeste', 'Ministro Andreazza',\n",
    "        'Novo Horizonte do Oeste', 'Vale do Paraíso', 'Alto Paraíso',\n",
    "        'Parecis', 'Buritis', 'Itapuã do Oeste', 'Corumbiara', 'Cujubim',\n",
    "        'Costa Marques', 'São Francisco do Guaporé', 'Urupá', 'Monte Negro'\n",
    "    ],\n",
    "    'Baixo': [\n",
    "        'Seringueiras', 'Governador Jorge Teixeira', 'Machadinho d\\'Oeste',\n",
    "        'Campo Novo de Rondônia', 'Alto Alegre dos Parecis', 'Theobroma',\n",
    "        'Nova União', 'Nova Mamoré', 'Vale do Anari'\n",
    "    ]\n",
    "}\n",
    "\n",
    "def faixa_idhm(mun):\n",
    "    for cat, lista in idh_map.items():\n",
    "        if mun in lista:\n",
    "            return cat\n",
    "    return 'Não listado'\n",
    "\n",
    "sinasc_raw['Faixa_IDHM'] = sinasc_raw['munResNome'].apply(faixa_idhm)\n",
    "\n",
    "vars_sel = ['Faixa_IDHM', 'PESO', 'APGAR5']\n",
    "df_idh = sinasc_raw[vars_sel].dropna()\n",
    "\n",
    "estat_idh = df_idh.groupby('Faixa_IDHM').agg({\n",
    "    'PESO': ['sum', 'mean', 'min', 'max', 'median', 'std', 'var'],\n",
    "    'APGAR5': ['sum', 'mean', 'min', 'max', 'median', 'std', 'var']\n",
    "})\n",
    "\n",
    "print(estat_idh)\n"
   ]
  },
  {
   "cell_type": "markdown",
   "metadata": {
    "id": "zhtI6CxtlTuH"
   },
   "source": [
    "### 5.2 IFDM\n",
    "B - https://pt.wikipedia.org/wiki/Lista_de_munic%C3%ADpios_de_Rond%C3%B4nia_por_IFDM\n"
   ]
  },
  {
   "cell_type": "code",
   "execution_count": 9,
   "metadata": {
    "id": "1AVkd1M3lTuI"
   },
   "outputs": [
    {
     "name": "stdout",
     "output_type": "stream",
     "text": [
      "                   QTDFILVIVO                                                  \\\n",
      "                          sum      mean  min   max median       std       var   \n",
      "Faixa_IFDM                                                                      \n",
      "Moderado (0.6–0.8)    19782.0  1.015764  0.0  12.0    1.0  1.118394  1.250804   \n",
      "Não listado            2227.0  1.034851  0.0  12.0    1.0  1.120451  1.255410   \n",
      "Regular (0.4–0.6)      3836.0  1.192415  0.0  14.0    1.0  1.373149  1.885539   \n",
      "\n",
      "                   QTDFILMORT                                                  \n",
      "                          sum      mean  min   max median       std       var  \n",
      "Faixa_IFDM                                                                     \n",
      "Moderado (0.6–0.8)     5245.0  0.269320  0.0  28.0    0.0  0.620274  0.384740  \n",
      "Não listado             441.0  0.204926  0.0   9.0    0.0  0.526661  0.277372  \n",
      "Regular (0.4–0.6)       855.0  0.265776  0.0   7.0    0.0  0.610787  0.373060  \n"
     ]
    }
   ],
   "source": [
    "moderado = [\n",
    "    'Ariquemes','Vilhena','Pimenta Bueno','Porto Velho','Ji-Paraná',\n",
    "    'Cacoal','Santa Luzia d\\'Oeste','Rolim de Moura','Chupinguaia',\n",
    "    'São Miguel do Guaporé','Pimenteiras do Oeste','Teixeirópolis',\n",
    "    'Colorado do Oeste','Jaru','Rio Crespo','Primavera de Rondônia',\n",
    "    'Alta Floresta d\\'Oeste','Ouro Preto do Oeste','São Francisco do Guaporé',\n",
    "    'Candeias do Jamari','Buritis','São Felipe d\\'Oeste',\n",
    "    'Presidente Médici','Cerejeiras','Monte Negro','Urupá'\n",
    "]\n",
    "regular = [\n",
    "    'Espigão d\\'Oeste','Seringueiras','Alvorada d\\'Oeste','Itapuã do Oeste',\n",
    "    'Cabixi','Novo Horizonte do Oeste','Nova Brasilândia d\\'Oeste',\n",
    "    'Vale do Paraíso','Corumbiara','Alto Paraíso','Cacaulândia',\n",
    "    'Vale do Anari','Ministro Andreazza','Costa Marques','Nova União',\n",
    "    'Guajará-Mirim','Mirante da Serra','Parecis','Castanheiras',\n",
    "    'Theobroma','Machadinho d\\'Oeste','Campo Novo de Rondônia',\n",
    "    'Nova Mamoré','Cujubim'\n",
    "]\n",
    "\n",
    "def faixa_ifdm(mun):\n",
    "    if mun in moderado:\n",
    "        return 'Moderado (0.6–0.8)'\n",
    "    elif mun in regular:\n",
    "        return 'Regular (0.4–0.6)'\n",
    "    else:\n",
    "        return 'Não listado'\n",
    "\n",
    "sinasc_raw['Faixa_IFDM'] = sinasc_raw['munResNome'].apply(faixa_ifdm)\n",
    "\n",
    "df_ifdm = sinasc_raw[['Faixa_IFDM', 'QTDFILVIVO', 'QTDFILMORT']].dropna()\n",
    "\n",
    "estat_ifdm = df_ifdm.groupby('Faixa_IFDM').agg({\n",
    "    'QTDFILVIVO': ['sum','mean','min','max','median','std','var'],\n",
    "    'QTDFILMORT': ['sum','mean','min','max','median','std','var']\n",
    "})\n",
    "\n",
    "print(estat_ifdm)"
   ]
  },
  {
   "cell_type": "markdown",
   "metadata": {
    "id": "BwdS46EWlTuI"
   },
   "source": [
    "### 5.3 PIB\n",
    "C - https://pt.wikipedia.org/wiki/Lista_de_munic%C3%ADpios_de_Rond%C3%B4nia_por_PIB\n"
   ]
  },
  {
   "cell_type": "code",
   "execution_count": 10,
   "metadata": {
    "id": "f8P7BYYglTuJ"
   },
   "outputs": [
    {
     "name": "stdout",
     "output_type": "stream",
     "text": [
      "                  IDADEPAI                                                     \\\n",
      "                       sum       mean   min   max median       std        var   \n",
      "Faixa_PIB                                                                       \n",
      "Alta (PIB > 1 bi)  98886.0  31.472311  15.0  66.0   30.0  7.757940  60.185639   \n",
      "Baixo              68920.0  31.031067  16.0  73.0   30.0  7.736507  59.853539   \n",
      "Moderado           67169.0  30.614859  16.0  86.0   30.0  7.799165  60.826975   \n",
      "\n",
      "                  ESCMAE2010                                                 \n",
      "                         sum      mean  min  max median       std       var  \n",
      "Faixa_PIB                                                                    \n",
      "Alta (PIB > 1 bi)    10820.0  3.443666  0.0  9.0    3.0  1.130674  1.278424  \n",
      "Baixo                 6742.0  3.035570  0.0  9.0    3.0  1.113834  1.240626  \n",
      "Moderado              7136.0  3.252507  0.0  5.0    3.0  1.097215  1.203881  \n"
     ]
    }
   ],
   "source": [
    "alta = ['Porto Velho', 'Ji-Paraná', 'Vilhena', 'Cacoal', 'Ariquemes']\n",
    "moderado = ['Jaru', 'Rolim de Moura', 'Pimenta Bueno',\n",
    "            'Guajará-Mirim', 'Ouro Preto do Oeste', 'Espigão D\\'Oeste']\n",
    "\n",
    "def faixa_pib(mun):\n",
    "    if mun in alta:\n",
    "        return 'Alta (PIB > 1 bi)'\n",
    "    elif mun in moderado:\n",
    "        return 'Moderado'\n",
    "    else:\n",
    "        return 'Baixo'\n",
    "\n",
    "sinasc_raw['Faixa_PIB'] = sinasc_raw['munResNome'].apply(faixa_pib)\n",
    "\n",
    "df_pib = sinasc_raw[['Faixa_PIB', 'IDADEPAI', 'ESCMAE2010']].dropna()\n",
    "\n",
    "estat_pib = df_pib.groupby('Faixa_PIB').agg({\n",
    "    'IDADEPAI': ['sum', 'mean', 'min', 'max', 'median', 'std', 'var'],\n",
    "    'ESCMAE2010': ['sum', 'mean', 'min', 'max', 'median', 'std', 'var']\n",
    "})\n",
    "\n",
    "print(estat_pib)\n"
   ]
  },
  {
   "cell_type": "markdown",
   "metadata": {
    "id": "bdWGW_xtlTuI"
   },
   "source": [
    "### Analise as respostas encontradas, tire algum insight delas, conte pra gente algo encontrado nos dados."
   ]
  },
  {
   "cell_type": "markdown",
   "metadata": {
    "id": "shZvokfBlTuI"
   },
   "source": [
    "Exemplo:\n",
    "- Ah, descobri que a idade mediana das mulheres que deram a luz no ano de 2019 dos municipios com o PIB mais alto é a maior dentre todas."
   ]
  },
  {
   "cell_type": "code",
   "execution_count": null,
   "metadata": {},
   "outputs": [],
   "source": [
    "#Notei que o município de Jaru tem os maiores picos de idades de mães mais nova por mais que o município de Ariquemes apresente em sua tragetória uma constantes de idades mais baixas. Contrapondo o município de Vilhena apresenta mais constantemente idades mais altas, porém o pico de idade mais alta é de Ji-Parana. OBs no gráfico de idades de mães por municípios ao longo do tempo."
   ]
  }
 ],
 "metadata": {
  "colab": {
   "provenance": []
  },
  "kernelspec": {
   "display_name": "Python [conda env:base] *",
   "language": "python",
   "name": "conda-base-py"
  },
  "language_info": {
   "codemirror_mode": {
    "name": "ipython",
    "version": 3
   },
   "file_extension": ".py",
   "mimetype": "text/x-python",
   "name": "python",
   "nbconvert_exporter": "python",
   "pygments_lexer": "ipython3",
   "version": "3.12.4"
  },
  "varInspector": {
   "cols": {
    "lenName": 16,
    "lenType": 16,
    "lenVar": 40
   },
   "kernels_config": {
    "python": {
     "delete_cmd_postfix": "",
     "delete_cmd_prefix": "del ",
     "library": "var_list.py",
     "varRefreshCmd": "print(var_dic_list())"
    },
    "r": {
     "delete_cmd_postfix": ") ",
     "delete_cmd_prefix": "rm(",
     "library": "var_list.r",
     "varRefreshCmd": "cat(var_dic_list()) "
    }
   },
   "types_to_exclude": [
    "module",
    "function",
    "builtin_function_or_method",
    "instance",
    "_Feature"
   ],
   "window_display": false
  }
 },
 "nbformat": 4,
 "nbformat_minor": 4
}
