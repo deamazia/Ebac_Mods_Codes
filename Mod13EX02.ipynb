{
 "cells": [
  {
   "cell_type": "markdown",
   "metadata": {},
   "source": [
    "# EBAC - Regressão II - regressão múltipla\n",
    "\n",
    "## Tarefa I"
   ]
  },
  {
   "cell_type": "markdown",
   "metadata": {},
   "source": [
    "#### Previsão de renda II\n",
    "\n",
    "Vamos continuar trabalhando com a base 'previsao_de_renda.csv', que é a base do seu próximo projeto. Vamos usar os recursos que vimos até aqui nesta base.\n",
    "\n",
    "|variavel|descrição|\n",
    "|-|-|\n",
    "|data_ref                | Data de referência de coleta das variáveis |\n",
    "|index                   | Código de identificação do cliente|\n",
    "|sexo                    | Sexo do cliente|\n",
    "|posse_de_veiculo        | Indica se o cliente possui veículo|\n",
    "|posse_de_imovel         | Indica se o cliente possui imóvel|\n",
    "|qtd_filhos              | Quantidade de filhos do cliente|\n",
    "|tipo_renda              | Tipo de renda do cliente|\n",
    "|educacao                | Grau de instrução do cliente|\n",
    "|estado_civil            | Estado civil do cliente|\n",
    "|tipo_residencia         | Tipo de residência do cliente (própria, alugada etc)|\n",
    "|idade                   | Idade do cliente|\n",
    "|tempo_emprego           | Tempo no emprego atual|\n",
    "|qt_pessoas_residencia   | Quantidade de pessoas que moram na residência|\n",
    "|renda                   | Renda em reais|"
   ]
  },
  {
   "cell_type": "code",
   "execution_count": 62,
   "metadata": {},
   "outputs": [],
   "source": [
    "import pandas as pd\n",
    "from sklearn.model_selection import train_test_split\n",
    "from sklearn.linear_model import Ridge\n",
    "from sklearn.metrics import r2_score\n",
    "from sklearn.preprocessing import StandardScaler\n",
    "import numpy as np\n",
    "from sklearn.impute import SimpleImputer\n",
    "from sklearn.linear_model import Lasso\n",
    "import statsmodels.formula.api as smf\n",
    "import patsy\n",
    "import unidecode\n",
    "import re\n",
    "import statsmodels.api as sm\n",
    "from patsy import build_design_matrices\n",
    "from sklearn.ensemble import RandomForestRegressor\n",
    "from sklearn.decomposition import PCA\n",
    "from sklearn.preprocessing import StandardScaler\n",
    "from sklearn.tree import DecisionTreeRegressor\n",
    "from patsy import dmatrices\n"
   ]
  },
  {
   "cell_type": "code",
   "execution_count": 39,
   "metadata": {},
   "outputs": [],
   "source": [
    "df = pd.read_csv('previsao_de_renda.csv')"
   ]
  },
  {
   "cell_type": "code",
   "execution_count": 40,
   "metadata": {},
   "outputs": [
    {
     "name": "stdout",
     "output_type": "stream",
     "text": [
      "<class 'pandas.core.frame.DataFrame'>\n",
      "RangeIndex: 15000 entries, 0 to 14999\n",
      "Data columns (total 16 columns):\n",
      " #   Column                 Non-Null Count  Dtype  \n",
      "---  ------                 --------------  -----  \n",
      " 0   Unnamed: 0             15000 non-null  int64  \n",
      " 1   data_ref               15000 non-null  object \n",
      " 2   index                  15000 non-null  int64  \n",
      " 3   sexo                   15000 non-null  object \n",
      " 4   posse_de_veiculo       15000 non-null  bool   \n",
      " 5   posse_de_imovel        15000 non-null  bool   \n",
      " 6   qtd_filhos             15000 non-null  int64  \n",
      " 7   tipo_renda             15000 non-null  object \n",
      " 8   educacao               15000 non-null  object \n",
      " 9   estado_civil           15000 non-null  object \n",
      " 10  tipo_residencia        15000 non-null  object \n",
      " 11  idade                  15000 non-null  int64  \n",
      " 12  tempo_emprego          12466 non-null  float64\n",
      " 13  qt_pessoas_residencia  15000 non-null  float64\n",
      " 14  mau                    15000 non-null  bool   \n",
      " 15  renda                  15000 non-null  float64\n",
      "dtypes: bool(3), float64(3), int64(4), object(6)\n",
      "memory usage: 1.5+ MB\n"
     ]
    }
   ],
   "source": [
    "df.info()"
   ]
  },
  {
   "cell_type": "markdown",
   "metadata": {},
   "source": [
    "1. Separe a base em treinamento e teste (25% para teste, 75% para treinamento).\n",
    "2. Rode uma regularização *ridge* com alpha = [0, 0.001, 0.005, 0.01, 0.05, 0.1] e avalie o $R^2$ na base de testes. Qual o melhor modelo?\n",
    "3. Faça o mesmo que no passo 2, com uma regressão *LASSO*. Qual método chega a um melhor resultado?\n",
    "4. Rode um modelo *stepwise*. Avalie o $R^2$ na vase de testes. Qual o melhor resultado?\n",
    "5. Compare os parâmetros e avalie eventuais diferenças. Qual modelo você acha o melhor de todos?\n",
    "6. Partindo dos modelos que você ajustou, tente melhorar o $R^2$ na base de testes. Use a criatividade, veja se consegue inserir alguma transformação ou combinação de variáveis.\n",
    "7. Ajuste uma árvore de regressão e veja se consegue um $R^2$ melhor com ela."
   ]
  },
  {
   "cell_type": "code",
   "execution_count": 41,
   "metadata": {},
   "outputs": [
    {
     "name": "stdout",
     "output_type": "stream",
     "text": [
      "Tamanho do conjunto de treino: (11250, 16)\n",
      "Tamanho do conjunto de teste: (3750, 16)\n"
     ]
    }
   ],
   "source": [
    "df_treino, df_teste = train_test_split(df, test_size=0.25, random_state=42)\n",
    "\n",
    "print(\"Tamanho do conjunto de treino:\", df_treino.shape)\n",
    "print(\"Tamanho do conjunto de teste:\", df_teste.shape)"
   ]
  },
  {
   "cell_type": "code",
   "execution_count": 42,
   "metadata": {},
   "outputs": [],
   "source": [
    "df['log_renda'] = np.log(df['renda'])"
   ]
  },
  {
   "cell_type": "code",
   "execution_count": 43,
   "metadata": {},
   "outputs": [],
   "source": [
    "df_treino, df_teste = train_test_split(df, test_size=0.25, random_state=42)"
   ]
  },
  {
   "cell_type": "code",
   "execution_count": 44,
   "metadata": {},
   "outputs": [
    {
     "name": "stdout",
     "output_type": "stream",
     "text": [
      "Alpha = 0.000 | R² = 0.2402\n",
      "Alpha = 0.001 | R² = 0.2402\n",
      "Alpha = 0.005 | R² = 0.2402\n",
      "Alpha = 0.010 | R² = 0.2402\n",
      "Alpha = 0.050 | R² = 0.2402\n",
      "Alpha = 0.100 | R² = 0.2402\n"
     ]
    }
   ],
   "source": [
    "df['log_renda'] = np.log(df['renda'])\n",
    "\n",
    "df_dummies = pd.get_dummies(df.drop(columns=['renda']), drop_first=True)\n",
    "\n",
    "df_treino, df_teste = train_test_split(df_dummies, test_size=0.25, random_state=42)\n",
    "\n",
    "X_train = df_treino.drop(columns=['log_renda'])\n",
    "y_train = df_treino['log_renda']\n",
    "X_test = df_teste.drop(columns=['log_renda'])\n",
    "y_test = df_teste['log_renda']\n",
    "\n",
    "imputer = SimpleImputer(strategy='mean')\n",
    "X_train_imputed = imputer.fit_transform(X_train)\n",
    "X_test_imputed = imputer.transform(X_test)\n",
    "\n",
    "scaler = StandardScaler()\n",
    "X_train_scaled = scaler.fit_transform(X_train_imputed)\n",
    "X_test_scaled = scaler.transform(X_test_imputed)\n",
    "\n",
    "alphas = [0, 0.001, 0.005, 0.01, 0.05, 0.1]\n",
    "for alpha in alphas:\n",
    "    ridge = Ridge(alpha=alpha)\n",
    "    ridge.fit(X_train_scaled, y_train)\n",
    "    y_pred = ridge.predict(X_test_scaled)\n",
    "    r2 = r2_score(y_test, y_pred)\n",
    "    print(f'Alpha = {alpha:.3f} | R² = {r2:.4f}')\n"
   ]
  },
  {
   "cell_type": "code",
   "execution_count": 16,
   "metadata": {},
   "outputs": [
    {
     "ename": "SyntaxError",
     "evalue": "invalid character '²' (U+00B2) (1890375441.py, line 1)",
     "output_type": "error",
     "traceback": [
      "\u001b[1;36m  Cell \u001b[1;32mIn[16], line 1\u001b[1;36m\u001b[0m\n\u001b[1;33m    O melhor modelo é com qualquer Alpha usado pois o R² permanece no mesmo valor.\u001b[0m\n\u001b[1;37m                                                       ^\u001b[0m\n\u001b[1;31mSyntaxError\u001b[0m\u001b[1;31m:\u001b[0m invalid character '²' (U+00B2)\n"
     ]
    }
   ],
   "source": [
    "O melhor modelo é com qualquer Alpha usado pois o R² permanece no mesmo valor."
   ]
  },
  {
   "cell_type": "code",
   "execution_count": 45,
   "metadata": {},
   "outputs": [
    {
     "name": "stdout",
     "output_type": "stream",
     "text": [
      "Resultados LASSO:\n"
     ]
    },
    {
     "name": "stderr",
     "output_type": "stream",
     "text": [
      "C:\\Users\\shinoki\\anaconda3\\Lib\\site-packages\\sklearn\\base.py:1474: UserWarning: With alpha=0, this algorithm does not converge well. You are advised to use the LinearRegression estimator\n",
      "  return fit_method(estimator, *args, **kwargs)\n",
      "C:\\Users\\shinoki\\anaconda3\\Lib\\site-packages\\sklearn\\linear_model\\_coordinate_descent.py:678: UserWarning: Coordinate descent with no regularization may lead to unexpected results and is discouraged.\n",
      "  model = cd_fast.enet_coordinate_descent(\n"
     ]
    },
    {
     "name": "stdout",
     "output_type": "stream",
     "text": [
      "Alpha = 0.000 | R² = 0.2402\n",
      "Alpha = 0.001 | R² = 0.2410\n",
      "Alpha = 0.005 | R² = 0.2405\n",
      "Alpha = 0.010 | R² = 0.2389\n",
      "Alpha = 0.050 | R² = 0.2071\n",
      "Alpha = 0.100 | R² = 0.1681\n",
      "\n",
      " Melhor alpha para LASSO: 0.001 | R² = 0.2410\n"
     ]
    },
    {
     "name": "stderr",
     "output_type": "stream",
     "text": [
      "C:\\Users\\shinoki\\anaconda3\\Lib\\site-packages\\sklearn\\linear_model\\_coordinate_descent.py:678: ConvergenceWarning: Objective did not converge. You might want to increase the number of iterations, check the scale of the features or consider increasing regularisation. Duality gap: 2.735e+03, tolerance: 7.054e-01 Linear regression models with null weight for the l1 regularization term are more efficiently fitted using one of the solvers implemented in sklearn.linear_model.Ridge/RidgeCV instead.\n",
      "  model = cd_fast.enet_coordinate_descent(\n"
     ]
    }
   ],
   "source": [
    "alphas = [0, 0.001, 0.005, 0.01, 0.05, 0.1]\n",
    "melhor_r2 = -float('inf')\n",
    "melhor_alpha = None\n",
    "\n",
    "print(\"Resultados LASSO:\")\n",
    "for alpha in alphas:\n",
    "    lasso = Lasso(alpha=alpha, max_iter=10000)\n",
    "    lasso.fit(X_train_scaled, y_train)\n",
    "    y_pred = lasso.predict(X_test_scaled)\n",
    "    r2 = r2_score(y_test, y_pred)\n",
    "    \n",
    "    print(f\"Alpha = {alpha:.3f} | R² = {r2:.4f}\")\n",
    "    \n",
    "    if r2 > melhor_r2:\n",
    "        melhor_r2 = r2\n",
    "        melhor_alpha = alpha\n",
    "\n",
    "print(f\"\\n Melhor alpha para LASSO: {melhor_alpha} | R² = {melhor_r2:.4f}\")"
   ]
  },
  {
   "cell_type": "code",
   "execution_count": null,
   "metadata": {},
   "outputs": [],
   "source": [
    "LASSO teve o melhor desempenho."
   ]
  },
  {
   "cell_type": "code",
   "execution_count": 46,
   "metadata": {},
   "outputs": [
    {
     "name": "stdout",
     "output_type": "stream",
     "text": [
      "['Unnamed_0', 'index', 'posse_de_veiculo', 'posse_de_imovel', 'qtd_filhos', 'idade', 'tempo_emprego', 'qt_pessoas_residencia', 'mau', 'log_renda', 'data_ref_20150201', 'data_ref_20150301', 'data_ref_20150401', 'data_ref_20150501', 'data_ref_20150601', 'data_ref_20150701', 'data_ref_20150801', 'data_ref_20150901', 'data_ref_20151001', 'data_ref_20151101', 'data_ref_20151201', 'data_ref_20160101', 'data_ref_20160201', 'data_ref_20160301', 'sexo_M', 'tipo_renda_Bolsista', 'tipo_renda_Empresario', 'tipo_renda_Pensionista', 'tipo_renda_Servidor_publico', 'educacao_Pos_graduacao', 'educacao_Secundario', 'educacao_Superior_completo', 'educacao_Superior_incompleto', 'estado_civil_Separado', 'estado_civil_Solteiro', 'estado_civil_Uniao', 'estado_civil_Viuvo', 'tipo_residencia_Casa', 'tipo_residencia_Com_os_pais', 'tipo_residencia_Comunitario', 'tipo_residencia_Estudio', 'tipo_residencia_Governamental']\n"
     ]
    }
   ],
   "source": [
    "def clean_col_name(col):\n",
    "    col = unidecode.unidecode(col)\n",
    "    col = re.sub(r'\\s+', '_', col)\n",
    "    col = re.sub(r'[^\\w]', '', col)\n",
    "    if re.match(r'^\\d', col):\n",
    "        col = 'var_' + col\n",
    "    return col\n",
    "\n",
    "df_treino_renamed = df_treino.rename(columns=clean_col_name)\n",
    "df_teste_renamed = df_teste.rename(columns=clean_col_name)\n",
    "\n",
    "print(df_treino_renamed.columns.tolist())"
   ]
  },
  {
   "cell_type": "code",
   "execution_count": 47,
   "metadata": {},
   "outputs": [],
   "source": [
    "def stepwise_selection(data, target, signif_level=0.05):\n",
    "    features = list(data.columns)\n",
    "    features.remove(target)\n",
    "\n",
    "    selected_features = []\n",
    "    current_score = None\n",
    "\n",
    "    while True:\n",
    "        changed = False\n",
    "      \n",
    "        remaining_features = [f for f in features if f not in selected_features]\n",
    "        pvals = pd.Series(index=remaining_features, dtype=float)\n",
    "\n",
    "        for feature in remaining_features:\n",
    "            formula = f\"{target} ~ \" + \" + \".join(selected_features + [feature])\n",
    "            model = smf.ols(formula=formula, data=data).fit()\n",
    "\n",
    "            pval = None\n",
    "            for name in model.pvalues.index:\n",
    "                if name == feature or name.startswith(feature + \"[\"):\n",
    "                    pval = model.pvalues[name]\n",
    "                    break\n",
    "            if pval is None:\n",
    "                pval = 1\n",
    "            pvals[feature] = pval\n",
    "\n",
    "        if not pvals.empty:\n",
    "            min_pval = pvals.min()\n",
    "            if min_pval < signif_level:\n",
    "                best_feature = pvals.idxmin()\n",
    "                selected_features.append(best_feature)\n",
    "                changed = True\n",
    "\n",
    "        if selected_features:\n",
    "            formula = f\"{target} ~ \" + \" + \".join(selected_features)\n",
    "            model = smf.ols(formula=formula, data=data).fit()\n",
    "            pvalues = model.pvalues.iloc[1:] \n",
    "            max_pval = pvalues.max()\n",
    "            if max_pval > signif_level:\n",
    "                worst_feature = pvalues.idxmax()\n",
    "                selected_features.remove(worst_feature)\n",
    "                changed = True\n",
    "\n",
    "        if not changed:\n",
    "            break\n",
    "\n",
    "    formula_final = f\"{target} ~ \" + \" + \".join(selected_features)\n",
    "    model_final = smf.ols(formula=formula_final, data=data).fit()\n",
    "    return model_final, formula_final\n",
    "\n"
   ]
  },
  {
   "cell_type": "code",
   "execution_count": 55,
   "metadata": {
    "scrolled": true
   },
   "outputs": [
    {
     "name": "stdout",
     "output_type": "stream",
     "text": [
      "R² na base de teste: 0.2498\n"
     ]
    }
   ],
   "source": [
    "modelo_stepwise, formula_stepwise = stepwise_selection(df_treino_renamed, target='log_renda')\n",
    "\n",
    "y_train, X_train = dmatrices(formula_stepwise, data=df_treino_renamed, return_type='dataframe')\n",
    "design_info = X_train.design_info \n",
    "\n",
    "modelo_stepwise = sm.OLS(y_train, X_train).fit()\n",
    "\n",
    "y_test, X_test = dmatrices(formula_stepwise, data=df_teste_renamed, return_type='dataframe')\n",
    "\n",
    "y_pred = modelo_stepwise.predict(X_test)\n",
    "\n",
    "r2 = r2_score(y_test, y_pred)\n",
    "print(f\"R² na base de teste: {r2:.4f}\")\n"
   ]
  },
  {
   "cell_type": "code",
   "execution_count": null,
   "metadata": {},
   "outputs": [],
   "source": [
    "O melhor modelo é o Stepwise"
   ]
  },
  {
   "cell_type": "code",
   "execution_count": null,
   "metadata": {},
   "outputs": [],
   "source": [
    "Se considerarmos apenas o desempenho (R²): Stepwise vence com 0.2498, mas sem regularização. Se buscarmos robustez, bom desempenho, simplicidade:\n",
    "LASSO (α=0.001) é o mais equilibrado. Tem desempenho quase igual ao Stepwise, faz seleção automática de variáveis, é regularizado, então menos sujeito a overfitting.\n",
    "\n"
   ]
  },
  {
   "cell_type": "code",
   "execution_count": 61,
   "metadata": {},
   "outputs": [
    {
     "name": "stderr",
     "output_type": "stream",
     "text": [
      "C:\\Users\\shinoki\\AppData\\Local\\Temp\\ipykernel_16816\\3243572487.py:2: FutureWarning: A value is trying to be set on a copy of a DataFrame or Series through chained assignment using an inplace method.\n",
      "The behavior will change in pandas 3.0. This inplace method will never work because the intermediate object on which we are setting values always behaves as a copy.\n",
      "\n",
      "For example, when doing 'df[col].method(value, inplace=True)', try using 'df.method({col: value}, inplace=True)' or df[col] = df[col].method(value) instead, to perform the operation inplace on the original object.\n",
      "\n",
      "\n",
      "  df_treino_renamed['tempo_emprego'].fillna(df_treino_renamed['tempo_emprego'].mean(), inplace=True)\n",
      "C:\\Users\\shinoki\\AppData\\Local\\Temp\\ipykernel_16816\\3243572487.py:3: FutureWarning: A value is trying to be set on a copy of a DataFrame or Series through chained assignment using an inplace method.\n",
      "The behavior will change in pandas 3.0. This inplace method will never work because the intermediate object on which we are setting values always behaves as a copy.\n",
      "\n",
      "For example, when doing 'df[col].method(value, inplace=True)', try using 'df.method({col: value}, inplace=True)' or df[col] = df[col].method(value) instead, to perform the operation inplace on the original object.\n",
      "\n",
      "\n",
      "  df_treino_renamed['log_idade'].fillna(df_treino_renamed['log_idade'].mean(), inplace=True)\n",
      "C:\\Users\\shinoki\\AppData\\Local\\Temp\\ipykernel_16816\\3243572487.py:6: FutureWarning: A value is trying to be set on a copy of a DataFrame or Series through chained assignment using an inplace method.\n",
      "The behavior will change in pandas 3.0. This inplace method will never work because the intermediate object on which we are setting values always behaves as a copy.\n",
      "\n",
      "For example, when doing 'df[col].method(value, inplace=True)', try using 'df.method({col: value}, inplace=True)' or df[col] = df[col].method(value) instead, to perform the operation inplace on the original object.\n",
      "\n",
      "\n",
      "  df_teste_renamed['tempo_emprego'].fillna(df_teste_renamed['tempo_emprego'].mean(), inplace=True)\n",
      "C:\\Users\\shinoki\\AppData\\Local\\Temp\\ipykernel_16816\\3243572487.py:7: FutureWarning: A value is trying to be set on a copy of a DataFrame or Series through chained assignment using an inplace method.\n",
      "The behavior will change in pandas 3.0. This inplace method will never work because the intermediate object on which we are setting values always behaves as a copy.\n",
      "\n",
      "For example, when doing 'df[col].method(value, inplace=True)', try using 'df.method({col: value}, inplace=True)' or df[col] = df[col].method(value) instead, to perform the operation inplace on the original object.\n",
      "\n",
      "\n",
      "  df_teste_renamed['log_idade'].fillna(df_teste_renamed['log_idade'].mean(), inplace=True)\n"
     ]
    },
    {
     "name": "stdout",
     "output_type": "stream",
     "text": [
      "R² Random Forest: 0.303847566663369\n"
     ]
    }
   ],
   "source": [
    "df_treino_renamed['tempo_emprego'].fillna(df_treino_renamed['tempo_emprego'].mean(), inplace=True)\n",
    "df_treino_renamed['log_idade'].fillna(df_treino_renamed['log_idade'].mean(), inplace=True)\n",
    "\n",
    "df_teste_renamed['tempo_emprego'].fillna(df_teste_renamed['tempo_emprego'].mean(), inplace=True)\n",
    "df_teste_renamed['log_idade'].fillna(df_teste_renamed['log_idade'].mean(), inplace=True)\n",
    "\n",
    "scaler = StandardScaler()\n",
    "df_treino_renamed[colunas_numericas] = scaler.fit_transform(df_treino_renamed[colunas_numericas])\n",
    "df_teste_renamed[colunas_numericas] = scaler.transform(df_teste_renamed[colunas_numericas])\n",
    "\n",
    "pca = PCA(n_components=5)\n",
    "X_pca = pca.fit_transform(df_treino_renamed[colunas_numericas])\n",
    "X_test_pca = pca.transform(df_teste_renamed[colunas_numericas])\n",
    "\n",
    "scaler = StandardScaler()\n",
    "colunas_numericas = df_treino_renamed.select_dtypes(include='number').columns.drop('log_renda')\n",
    "\n",
    "df_treino_renamed[colunas_numericas] = scaler.fit_transform(df_treino_renamed[colunas_numericas])\n",
    "df_teste_renamed[colunas_numericas] = scaler.transform(df_teste_renamed[colunas_numericas])\n",
    "\n",
    "pca = PCA(n_components=5)\n",
    "X_pca = pca.fit_transform(df_treino_renamed[colunas_numericas])\n",
    "X_test_pca = pca.transform(df_teste_renamed[colunas_numericas])\n",
    "\n",
    "rf = RandomForestRegressor(n_estimators=100, random_state=42)\n",
    "rf.fit(X_train, y_train.values.ravel())\n",
    "\n",
    "y_pred_rf = rf.predict(X_test)\n",
    "print(\"R² Random Forest:\", r2_score(y_test, y_pred_rf))\n",
    "\n"
   ]
  },
  {
   "cell_type": "code",
   "execution_count": 63,
   "metadata": {},
   "outputs": [
    {
     "name": "stdout",
     "output_type": "stream",
     "text": [
      "R² da árvore de regressão na base de teste: 0.0114\n"
     ]
    }
   ],
   "source": [
    "features = ['idade', 'qtd_filhos', 'tempo_emprego', 'qt_pessoas_residencia', 'idade2', 'log_idade']\n",
    "target = 'log_renda' \n",
    "\n",
    "X_train = df_treino_renamed[features]\n",
    "y_train = df_treino_renamed[target]\n",
    "\n",
    "X_test = df_teste_renamed[features]\n",
    "y_test = df_teste_renamed[target]\n",
    "\n",
    "arvore = DecisionTreeRegressor(random_state=42)\n",
    "arvore.fit(X_train, y_train)\n",
    "\n",
    "y_pred = arvore.predict(X_test)\n",
    "\n",
    "r2 = r2_score(y_test, y_pred)\n",
    "print(f\"R² da árvore de regressão na base de teste: {r2:.4f}\")\n"
   ]
  },
  {
   "cell_type": "code",
   "execution_count": null,
   "metadata": {},
   "outputs": [],
   "source": []
  }
 ],
 "metadata": {
  "kernelspec": {
   "display_name": "Python [conda env:base] *",
   "language": "python",
   "name": "conda-base-py"
  },
  "language_info": {
   "codemirror_mode": {
    "name": "ipython",
    "version": 3
   },
   "file_extension": ".py",
   "mimetype": "text/x-python",
   "name": "python",
   "nbconvert_exporter": "python",
   "pygments_lexer": "ipython3",
   "version": "3.12.4"
  }
 },
 "nbformat": 4,
 "nbformat_minor": 4
}
