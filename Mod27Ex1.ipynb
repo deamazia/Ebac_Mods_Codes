{
 "cells": [
  {
   "cell_type": "markdown",
   "metadata": {},
   "source": [
    "![Cabec%CC%A7alho_notebook.png](cabecalho_notebook.png)"
   ]
  },
  {
   "cell_type": "markdown",
   "metadata": {},
   "source": [
    "# PCA - Tarefa 01: *HAR* com PCA\n",
    "\n",
    "Vamos trabalhar com a base da demonstração feita em aula, mas vamos explorar um pouco melhor como é o desempenho da árvore variando o número de componentes principais."
   ]
  },
  {
   "cell_type": "code",
   "execution_count": 10,
   "metadata": {},
   "outputs": [
    {
     "name": "stderr",
     "output_type": "stream",
     "text": [
      "C:\\Users\\shinoki\\AppData\\Local\\Temp\\ipykernel_7892\\339483026.py:24: FutureWarning: The 'delim_whitespace' keyword in pd.read_csv is deprecated and will be removed in a future version. Use ``sep='\\s+'`` instead\n",
      "  labels = pd.read_csv(filename_labels, delim_whitespace=True, header=None, names=['cod_label', 'label'])\n",
      "C:\\Users\\shinoki\\AppData\\Local\\Temp\\ipykernel_7892\\339483026.py:29: FutureWarning: The 'delim_whitespace' keyword in pd.read_csv is deprecated and will be removed in a future version. Use ``sep='\\s+'`` instead\n",
      "  X_train = pd.read_csv(filename_xtrain, delim_whitespace=True, header=None, names=features.tolist())\n",
      "C:\\Users\\shinoki\\AppData\\Local\\Temp\\ipykernel_7892\\339483026.py:35: FutureWarning: The 'delim_whitespace' keyword in pd.read_csv is deprecated and will be removed in a future version. Use ``sep='\\s+'`` instead\n",
      "  X_test = pd.read_csv(filename_xtest, delim_whitespace=True, header=None, names=features.tolist())\n"
     ]
    }
   ],
   "source": [
    "import pandas as pd\n",
    "import time\n",
    "from sklearn.tree import DecisionTreeClassifier\n",
    "\n",
    "from sklearn.decomposition import PCA\n",
    "from sklearn.metrics import accuracy_score\n",
    "from sklearn.model_selection import cross_val_score\n",
    "from sklearn.model_selection import GridSearchCV\n",
    "\n",
    "filename_features = \"UCI HAR Dataset/features.txt\"\n",
    "filename_labels = \"UCI HAR Dataset/activity_labels.txt\"\n",
    "\n",
    "filename_subtrain = \"UCI HAR Dataset/train/subject_train.txt\"\n",
    "filename_xtrain = \"UCI HAR Dataset/train/X_train.txt\"\n",
    "filename_ytrain = \"UCI HAR Dataset/train/y_train.txt\"\n",
    "\n",
    "filename_subtest = \"UCI HAR Dataset/test/subject_test.txt\"\n",
    "filename_xtest = \"UCI HAR Dataset/test/X_test.txt\"\n",
    "filename_ytest = \"UCI HAR Dataset/test/y_test.txt\"\n",
    "\n",
    "features_df = pd.read_csv(filename_features, header=None, names=['nome_var'], sep=\"#\")\n",
    "features = features_df['nome_var']\n",
    "\n",
    "labels = pd.read_csv(filename_labels, delim_whitespace=True, header=None, names=['cod_label', 'label'])\n",
    "\n",
    "subject_train_df = pd.read_csv(filename_subtrain, header=None, names=['subject_id'])\n",
    "subject_train = subject_train_df['subject_id']\n",
    "\n",
    "X_train = pd.read_csv(filename_xtrain, delim_whitespace=True, header=None, names=features.tolist())\n",
    "y_train = pd.read_csv(filename_ytrain, header=None, names=['cod_label'])\n",
    "\n",
    "subject_test_df = pd.read_csv(filename_subtest, header=None, names=['subject_id'])\n",
    "subject_test = subject_test_df['subject_id']\n",
    "\n",
    "X_test = pd.read_csv(filename_xtest, delim_whitespace=True, header=None, names=features.tolist())\n",
    "y_test = pd.read_csv(filename_ytest, header=None, names=['cod_label'])\n"
   ]
  },
  {
   "cell_type": "markdown",
   "metadata": {},
   "source": [
    "## Árvore de decisão\n",
    "\n",
    "Rode uma árvore de decisão com todas as variáveis, utilizando o ```ccp_alpha=0.001```. Avalie a acurácia nas bases de treinamento e teste. Avalie o tempo de processamento."
   ]
  },
  {
   "cell_type": "code",
   "execution_count": 11,
   "metadata": {},
   "outputs": [
    {
     "name": "stdout",
     "output_type": "stream",
     "text": [
      "Acurácia (Treino): 0.9758\n",
      "Acurácia (Teste) : 0.8799\n",
      "CPU times: total: 7.59 s\n",
      "Wall time: 8.92 s\n"
     ]
    }
   ],
   "source": [
    "%%time\n",
    "\n",
    "tree = DecisionTreeClassifier(ccp_alpha=0.001, random_state=42)\n",
    "tree.fit(X_train, y_train.values.ravel())\n",
    "\n",
    "y_pred_train = tree.predict(X_train)\n",
    "y_pred_test = tree.predict(X_test)\n",
    "\n",
    "acc_train = accuracy_score(y_train, y_pred_train)\n",
    "acc_test = accuracy_score(y_test, y_pred_test)\n",
    "\n",
    "print(f\"Acurácia (Treino): {acc_train:.4f}\")\n",
    "print(f\"Acurácia (Teste) : {acc_test:.4f}\")\n",
    "\n"
   ]
  },
  {
   "cell_type": "markdown",
   "metadata": {},
   "source": [
    "## Árvore com PCA\n",
    "\n",
    "Faça uma análise de componemtes principais das variáveis originais. Utilize apenas uma componente. Faça uma árvore de decisão com esta componente como variável explicativa.\n",
    "\n",
    "- Avalie a acurácia nas bases de treinamento e teste\n",
    "- Avalie o tempo de processamento"
   ]
  },
  {
   "cell_type": "code",
   "execution_count": 12,
   "metadata": {},
   "outputs": [
    {
     "name": "stdout",
     "output_type": "stream",
     "text": [
      "Acurácia (Treino com 1 PCA): 0.4997\n",
      "Acurácia (Teste com 1 PCA) : 0.4571\n",
      "CPU times: total: 578 ms\n",
      "Wall time: 575 ms\n"
     ]
    }
   ],
   "source": [
    "%%time\n",
    "\n",
    "pca = PCA(n_components=1)\n",
    "X_train_pca = pca.fit_transform(X_train)\n",
    "X_test_pca = pca.transform(X_test)\n",
    "\n",
    "tree_pca = DecisionTreeClassifier(ccp_alpha=0.001, random_state=42)\n",
    "\n",
    "tree_pca.fit(X_train_pca, y_train.values.ravel())\n",
    "\n",
    "y_pred_train_pca = tree_pca.predict(X_train_pca)\n",
    "y_pred_test_pca = tree_pca.predict(X_test_pca)\n",
    "\n",
    "acc_train_pca = accuracy_score(y_train, y_pred_train_pca)\n",
    "acc_test_pca = accuracy_score(y_test, y_pred_test_pca)\n",
    "\n",
    "print(f\"Acurácia (Treino com 1 PCA): {acc_train_pca:.4f}\")\n",
    "print(f\"Acurácia (Teste com 1 PCA) : {acc_test_pca:.4f}\")"
   ]
  },
  {
   "cell_type": "markdown",
   "metadata": {},
   "source": [
    "## Testando o número de componentes\n",
    "\n",
    "Com base no código acima, teste a árvore de classificação com pelo menos as seguintes possibilidades de quantidades de componentes: ```[1, 2, 5, 10, 50]```. Avalie para cada uma delas:\n",
    "\n",
    "- Acurácia nas bases de treino e teste\n",
    "- Tempo de processamento\n"
   ]
  },
  {
   "cell_type": "code",
   "execution_count": 13,
   "metadata": {
    "scrolled": true
   },
   "outputs": [
    {
     "name": "stdout",
     "output_type": "stream",
     "text": [
      "\n",
      "--- Testando PCA com 1 componente(s) ---\n",
      "Tempo de treinamento: 0.0924 segundos\n",
      "Acurácia treino: 0.4997\n",
      "Acurácia teste : 0.4571\n",
      "\n",
      "--- Testando PCA com 2 componente(s) ---\n",
      "Tempo de treinamento: 0.0918 segundos\n",
      "Acurácia treino: 0.6128\n",
      "Acurácia teste : 0.5847\n",
      "\n",
      "--- Testando PCA com 5 componente(s) ---\n",
      "Tempo de treinamento: 0.0896 segundos\n",
      "Acurácia treino: 0.8460\n",
      "Acurácia teste : 0.7886\n",
      "\n",
      "--- Testando PCA com 10 componente(s) ---\n",
      "Tempo de treinamento: 0.1791 segundos\n",
      "Acurácia treino: 0.8928\n",
      "Acurácia teste : 0.8191\n",
      "\n",
      "--- Testando PCA com 50 componente(s) ---\n",
      "Tempo de treinamento: 0.9411 segundos\n",
      "Acurácia treino: 0.9189\n",
      "Acurácia teste : 0.8266\n",
      "CPU times: total: 4.86 s\n",
      "Wall time: 3.8 s\n"
     ]
    }
   ],
   "source": [
    "%%time\n",
    "\n",
    "componentes = [1, 2, 5, 10, 50]\n",
    "\n",
    "for n in componentes:\n",
    "    print(f\"\\n--- Testando PCA com {n} componente(s) ---\")\n",
    "    \n",
    "    pca = PCA(n_components=n)\n",
    "    X_train_pca = pca.fit_transform(X_train)\n",
    "    X_test_pca = pca.transform(X_test)\n",
    "    \n",
    "    tree = DecisionTreeClassifier(ccp_alpha=0.001, random_state=42)\n",
    "    \n",
    "    start = time.time()\n",
    "    tree.fit(X_train_pca, y_train.values.ravel())  # Treinar aqui!\n",
    "    elapsed = time.time() - start\n",
    "    \n",
    "    y_pred_train = tree.predict(X_train_pca)\n",
    "    y_pred_test = tree.predict(X_test_pca)\n",
    "    \n",
    "    acc_train = accuracy_score(y_train, y_pred_train)\n",
    "    acc_test = accuracy_score(y_test, y_pred_test)\n",
    "    \n",
    "    print(f\"Tempo de treinamento: {elapsed:.4f} segundos\")\n",
    "    print(f\"Acurácia treino: {acc_train:.4f}\")\n",
    "    print(f\"Acurácia teste : {acc_test:.4f}\")"
   ]
  },
  {
   "cell_type": "markdown",
   "metadata": {},
   "source": [
    "## Conclua\n",
    "\n",
    "- O que aconteceu com a acurácia?\n",
    "- O que aconteceu com o tempo de processamento?"
   ]
  },
  {
   "cell_type": "code",
   "execution_count": null,
   "metadata": {},
   "outputs": [],
   "source": [
    "# Poucos componentes: menos tempo, mas pior desempenho.\n",
    "\n",
    "# Mais componentes: melhor desempenho, mas mais tempo.\n",
    "\n",
    "# Existe um trade-off entre simplificação (menos componentes, menos tempo) e qualidade do modelo (acurácia)."
   ]
  }
 ],
 "metadata": {
  "kernelspec": {
   "display_name": "Python [conda env:base] *",
   "language": "python",
   "name": "conda-base-py"
  },
  "language_info": {
   "codemirror_mode": {
    "name": "ipython",
    "version": 3
   },
   "file_extension": ".py",
   "mimetype": "text/x-python",
   "name": "python",
   "nbconvert_exporter": "python",
   "pygments_lexer": "ipython3",
   "version": "3.12.4"
  },
  "toc": {
   "base_numbering": 1,
   "nav_menu": {},
   "number_sections": true,
   "sideBar": true,
   "skip_h1_title": true,
   "title_cell": "Índice",
   "title_sidebar": "Conteúdo",
   "toc_cell": false,
   "toc_position": {},
   "toc_section_display": true,
   "toc_window_display": false
  },
  "varInspector": {
   "cols": {
    "lenName": 16,
    "lenType": 16,
    "lenVar": 40
   },
   "kernels_config": {
    "python": {
     "delete_cmd_postfix": "",
     "delete_cmd_prefix": "del ",
     "library": "var_list.py",
     "varRefreshCmd": "print(var_dic_list())"
    },
    "r": {
     "delete_cmd_postfix": ") ",
     "delete_cmd_prefix": "rm(",
     "library": "var_list.r",
     "varRefreshCmd": "cat(var_dic_list()) "
    }
   },
   "types_to_exclude": [
    "module",
    "function",
    "builtin_function_or_method",
    "instance",
    "_Feature"
   ],
   "window_display": false
  }
 },
 "nbformat": 4,
 "nbformat_minor": 4
}
