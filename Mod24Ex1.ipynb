{
 "cells": [
  {
   "cell_type": "code",
   "execution_count": null,
   "id": "9860420f-044a-4e6d-8a3a-e839368dcd5e",
   "metadata": {},
   "outputs": [],
   "source": [
    "#1. Estratégia de Aprendizado\n",
    "#Random Forest: Usa o método de bagging (bootstrap aggregating) — cria múltiplas árvores independentes em subconjuntos aleatórios dos dados.\n",
    "\n",
    "#AdaBoost: Usa o método de boosting — constrói os modelos de forma sequencial, onde cada novo modelo foca nos erros do anterior.\n",
    "\n",
    "#2. Independência entre Árvores\n",
    "#Random Forest: As árvores são treinadas independentemente umas das outras.\n",
    "\n",
    "#AdaBoost: As árvores são dependentes, pois cada uma corrige os erros da anterior.\n",
    "\n",
    "#3. Peso das Amostras\n",
    "#Random Forest: Todas as amostras têm o mesmo peso ao longo do treinamento.\n",
    "\n",
    "#AdaBoost: As amostras erradas recebem mais peso, para forçar o modelo seguinte a focar nelas.\n",
    "\n",
    "#4. Tipo de Árvores Utilizadas\n",
    "#Random Forest: Usa árvores profundas (não podadas) como base learners.\n",
    "\n",
    "#AdaBoost: Costuma usar árvores rasas (geralmente stumps, com apenas uma divisão) como base learners.\n",
    "\n",
    "#5. Robustez a Outliers\n",
    "#Random Forest: Mais robusto a outliers e dados ruidosos.\n",
    "\n",
    "#AdaBoost: Mais sensível a outliers, pois tenta corrigir todos os erros, mesmo os causados por ruído."
   ]
  },
  {
   "cell_type": "code",
   "execution_count": 2,
   "id": "e3fcf668-15ae-43de-ab75-1292e2446beb",
   "metadata": {},
   "outputs": [
    {
     "name": "stderr",
     "output_type": "stream",
     "text": [
      "C:\\Users\\shinoki\\anaconda3\\Lib\\site-packages\\sklearn\\ensemble\\_weight_boosting.py:519: FutureWarning: The SAMME.R algorithm (the default) is deprecated and will be removed in 1.6. Use the SAMME algorithm to circumvent this warning.\n",
      "  warnings.warn(\n"
     ]
    },
    {
     "name": "stdout",
     "output_type": "stream",
     "text": [
      "Acurácia: 1.0\n",
      "Relatório de Classificação:\n",
      "               precision    recall  f1-score   support\n",
      "\n",
      "           0       1.00      1.00      1.00        19\n",
      "           1       1.00      1.00      1.00        13\n",
      "           2       1.00      1.00      1.00        13\n",
      "\n",
      "    accuracy                           1.00        45\n",
      "   macro avg       1.00      1.00      1.00        45\n",
      "weighted avg       1.00      1.00      1.00        45\n",
      "\n"
     ]
    }
   ],
   "source": [
    "from sklearn.datasets import load_iris\n",
    "from sklearn.model_selection import train_test_split\n",
    "from sklearn.ensemble import AdaBoostClassifier\n",
    "from sklearn.tree import DecisionTreeClassifier\n",
    "from sklearn.metrics import accuracy_score, classification_report\n",
    "\n",
    "iris = load_iris()\n",
    "X, y = iris.data, iris.target\n",
    "\n",
    "X_train, X_test, y_train, y_test = train_test_split(X, y, test_size=0.3, random_state=42)\n",
    "\n",
    "base_clf = DecisionTreeClassifier(max_depth=1)\n",
    "\n",
    "ada_model = AdaBoostClassifier(\n",
    "    estimator=base_clf,\n",
    "    n_estimators=50,\n",
    "    learning_rate=1.0,\n",
    "    random_state=42\n",
    ")\n",
    "\n",
    "ada_model.fit(X_train, y_train)\n",
    "\n",
    "y_pred = ada_model.predict(X_test)\n",
    "\n",
    "print(\"Acurácia:\", accuracy_score(y_test, y_pred))\n",
    "print(\"Relatório de Classificação:\\n\", classification_report(y_test, y_pred))\n"
   ]
  },
  {
   "cell_type": "code",
   "execution_count": 3,
   "id": "70b37938-7c61-411a-8a52-f98e070bafe0",
   "metadata": {},
   "outputs": [],
   "source": [
    "# n_estimators\n",
    "# learning_rate\n",
    "# estimator\n",
    "# algorithm\n",
    "# random_state\n"
   ]
  },
  {
   "cell_type": "code",
   "execution_count": 9,
   "id": "7f69fe78-745d-4a45-ad88-7898bcf59690",
   "metadata": {},
   "outputs": [
    {
     "name": "stdout",
     "output_type": "stream",
     "text": [
      "Melhores hiperparâmetros encontrados:\n",
      "{'algorithm': 'SAMME', 'estimator__max_depth': 3, 'learning_rate': 0.1, 'n_estimators': 10}\n",
      "\n",
      "Relatório de Classificação no Teste:\n",
      "              precision    recall  f1-score   support\n",
      "\n",
      "           0       1.00      1.00      1.00        19\n",
      "           1       1.00      1.00      1.00        13\n",
      "           2       1.00      1.00      1.00        13\n",
      "\n",
      "    accuracy                           1.00        45\n",
      "   macro avg       1.00      1.00      1.00        45\n",
      "weighted avg       1.00      1.00      1.00        45\n",
      "\n"
     ]
    }
   ],
   "source": [
    "from sklearn.datasets import load_iris\n",
    "from sklearn.model_selection import GridSearchCV\n",
    "from sklearn.metrics import classification_report\n",
    "\n",
    "base_model = DecisionTreeClassifier()\n",
    "\n",
    "param_grid = {\n",
    "    'n_estimators': [10, 50, 100],\n",
    "    'learning_rate': [0.01, 0.1, 1.0],\n",
    "    'estimator__max_depth': [1, 2, 3],\n",
    "    'algorithm': ['SAMME', 'SAMME.R']\n",
    "}\n",
    "\n",
    "ada = AdaBoostClassifier(estimator=base_model, random_state=42)\n",
    "\n",
    "grid_search = GridSearchCV(estimator=ada, param_grid=param_grid,\n",
    "                           cv=5, scoring='accuracy', n_jobs=-1)\n",
    "\n",
    "grid_search.fit(X_train, y_train)\n",
    "\n",
    "print(\"Melhores hiperparâmetros encontrados:\")\n",
    "print(grid_search.best_params_)\n",
    "\n",
    "best_model = grid_search.best_estimator_\n",
    "y_pred = best_model.predict(X_test)\n",
    "\n",
    "print(\"\\nRelatório de Classificação no Teste:\")\n",
    "print(classification_report(y_test, y_pred))"
   ]
  },
  {
   "cell_type": "code",
   "execution_count": null,
   "id": "81de45a1-8982-46aa-89ff-eba393a1255a",
   "metadata": {},
   "outputs": [],
   "source": []
  }
 ],
 "metadata": {
  "kernelspec": {
   "display_name": "Python [conda env:base] *",
   "language": "python",
   "name": "conda-base-py"
  },
  "language_info": {
   "codemirror_mode": {
    "name": "ipython",
    "version": 3
   },
   "file_extension": ".py",
   "mimetype": "text/x-python",
   "name": "python",
   "nbconvert_exporter": "python",
   "pygments_lexer": "ipython3",
   "version": "3.12.4"
  }
 },
 "nbformat": 4,
 "nbformat_minor": 5
}
